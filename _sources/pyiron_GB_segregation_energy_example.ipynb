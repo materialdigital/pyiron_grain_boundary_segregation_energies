{
 "cells": [
  {
   "cell_type": "markdown",
   "metadata": {},
   "source": [
    "### A pyiron workflow to calculate a grain boundary energy using multiple potentials, and compare to literature DFT data.\n",
    "\n",
    "This notebook __doesn't__ work out of the box if you haven't configured LAMMPS for pyiron\n",
    "\n",
    "conda install -c conda-forge lammps \n",
    "\n",
    "OR\n",
    "\n",
    "mamba install -c conda-forge lammps\n",
    "\n",
    "In the python environment in which you are running pyiron\n",
    "\n",
    "WARNING: In practice/production you should configure a compiled LAMMPS executable that is optimised for your cluster!"
   ]
  },
  {
   "cell_type": "code",
   "execution_count": 1,
   "metadata": {},
   "outputs": [
    {
     "data": {
      "application/vnd.jupyter.widget-view+json": {
       "model_id": "33539e50c218473187a0c83499df8eaf",
       "version_major": 2,
       "version_minor": 0
      },
      "text/plain": []
     },
     "metadata": {},
     "output_type": "display_data"
    }
   ],
   "source": [
    "from pyiron.project import Project\n",
    "\n",
    "import numpy as np\n",
    "import pandas as pd\n",
    "\n",
    "from ase.lattice.cubic import BodyCenteredCubic as bcc\n",
    "from ase.build import stack\n",
    "\n",
    "from pymatgen.io.ase import AseAtomsAdaptor\n",
    "from pymatgen.core import Structure\n",
    "\n",
    "from pyiron.atomistics.structure.atoms import ase_to_pyiron, pymatgen_to_pyiron"
   ]
  },
  {
   "cell_type": "code",
   "execution_count": 2,
   "metadata": {},
   "outputs": [],
   "source": [
    "def add_vacuum(structure, vacuum):\n",
    "    \"\"\"\n",
    "    Adds padding to a slab or 2D material.\n",
    "\n",
    "    Args:\n",
    "        structure (Structure): Structure to add vacuum to\n",
    "        vacuum (float): Vacuum thickness to add in Angstroms\n",
    "    Returns:\n",
    "        Structure object with vacuum added.\n",
    "    \"\"\"\n",
    "    struct = structure.copy()\n",
    "    coords = [s.coords for s in struct.sites]\n",
    "    species = [s.specie for s in struct.sites]\n",
    "    lattice = struct.lattice.matrix\n",
    "    lattice.setflags(write=1)\n",
    "    lattice_C = lattice\n",
    "    lattice_C[2][2] += vacuum\n",
    "    struct = Structure(lattice_C, species, coords, coords_are_cartesian=True)\n",
    "    struct.translate_sites(range(len(struct)), [0,0,vacuum/2], frac_coords=False)\n",
    "    return struct"
   ]
  },
  {
   "cell_type": "code",
   "execution_count": 3,
   "metadata": {},
   "outputs": [],
   "source": [
    "pr = Project(\"GB_calcs\")"
   ]
  },
  {
   "cell_type": "markdown",
   "metadata": {},
   "source": [
    "Create the structure that we're going to use:\n",
    "a $\\Sigma 3 [1 \\bar{1}0](111)$ Fe GB"
   ]
  },
  {
   "cell_type": "code",
   "execution_count": 4,
   "metadata": {},
   "outputs": [],
   "source": [
    "surface1 = [1, 1, 1]\n",
    "surface2 = [1, 1, -1]\n",
    "rotation_axis = [1, -1, 0]\n",
    "element = \"Fe\"\n",
    "lc = 2.8318488966083\n",
    "GB_name = \"S3-RA110-S1-11\"\n",
    "\n",
    "# The minimum required length of the cell.\n",
    "req_length = 30\n",
    "\n",
    "v1 = list(-np.cross(rotation_axis,surface1))\n",
    "v2 = list(-np.cross(rotation_axis,surface2)) \n",
    "\n",
    "length = 0\n",
    "n = 0\n",
    "while length < req_length:\n",
    "    n += 1\n",
    "    \n",
    "    slab1 = bcc(symbol=element, latticeconstant=lc,directions=[rotation_axis,v1,surface1], size=[1,1,n])\n",
    "    slab2 = bcc(symbol=element, latticeconstant=lc,directions=[rotation_axis,v2,surface2], size=[1,1,n])\n",
    "\n",
    "    gb = stack(slab1, slab2)\n",
    "    slab = stack(slab1, slab1)\n",
    "    length = gb.cell[-1,-1]\n",
    "    \n",
    "    # Rattle the gb structure using rattle in ASE to perturb symmetry\n",
    "    gb.rattle()\n",
    "    slab.rattle()\n",
    "    \n",
    "    slab_pmg = add_vacuum(AseAtomsAdaptor().get_structure(slab).copy(), 10)\n",
    "    gb_pmg = add_vacuum(AseAtomsAdaptor().get_structure(gb).copy(), 10)\n",
    "\n",
    "gb_pmg.sort(lambda x: x.frac_coords[-1])\n",
    "slab_pmg.sort(lambda x: x.frac_coords[-1])"
   ]
  },
  {
   "cell_type": "markdown",
   "metadata": {},
   "source": [
    "For the purposes of segregation, we need to create a set of GBs with a segregant (here it is P) substituted at various sites near the GB."
   ]
  },
  {
   "cell_type": "markdown",
   "metadata": {},
   "source": [
    "Create the slab structure for a reference, in this case subsitute 1 P atom in to the slab bcc cell for a reference chemical potential "
   ]
  },
  {
   "cell_type": "code",
   "execution_count": 5,
   "metadata": {},
   "outputs": [],
   "source": [
    "slab_pmg_P = slab_pmg.copy()\n",
    "slab_pmg_P[40] = \"P\""
   ]
  },
  {
   "cell_type": "code",
   "execution_count": 6,
   "metadata": {},
   "outputs": [
    {
     "data": {
      "text/plain": [
       "22.16717158899204"
      ]
     },
     "execution_count": 6,
     "metadata": {},
     "output_type": "execute_result"
    }
   ],
   "source": [
    "mid_point = gb_pmg.lattice.c / 2\n",
    "mid_point"
   ]
  },
  {
   "cell_type": "code",
   "execution_count": 7,
   "metadata": {},
   "outputs": [],
   "source": [
    "# We just need to set some arbitrary threshold past which we don't compute the segregation energy of that site\n",
    "# In practice, it is safe to set this to be less than 6 angstrom away from the GB\n",
    "threshold = 6\n",
    "structure_list = []\n",
    "structure_name_list = []\n",
    "structure_dist_list = []\n",
    "for i, site in enumerate(gb_pmg):\n",
    "    GB_seg_struct = gb_pmg.copy()\n",
    "    dist_GB = abs(site.coords[-1] - mid_point)\n",
    "    if dist_GB < 6:\n",
    "        GB_seg_struct[i] = \"P\"\n",
    "        structure_name_list.append(f\"GB_P_%s_d_%.2f\" % (int(i), dist_GB))\n",
    "        structure_list.append(GB_seg_struct)\n",
    "        structure_dist_list.append(dist_GB)"
   ]
  },
  {
   "cell_type": "markdown",
   "metadata": {},
   "source": [
    "Create the pyiron job, assign the structure to the job."
   ]
  },
  {
   "cell_type": "code",
   "execution_count": 8,
   "metadata": {},
   "outputs": [],
   "source": [
    "job = pr.create_job(job_type=pr.job_type.Lammps, job_name='Fe_S3_GB')\n",
    "\n",
    "job.structure = pymatgen_to_pyiron(structure_list[0])"
   ]
  },
  {
   "cell_type": "markdown",
   "metadata": {},
   "source": [
    "We need to see the potentials, pyiron has an inbuilt potential database\n",
    "\n",
    "It automatically finds the applicable potentials given the structure provided."
   ]
  },
  {
   "cell_type": "code",
   "execution_count": 9,
   "metadata": {},
   "outputs": [
    {
     "data": {
      "text/plain": [
       "['2004--Ackland-G-J--Fe-P--LAMMPS--ipr1',\n",
       " '2012--Ko-W-S--Fe-P--LAMMPS--ipr1',\n",
       " 'EAM_Dynamo_AcklandMendelevSrolovitz_2004_FeP__MO_884343146310_005',\n",
       " 'MEAM_LAMMPS_KoJimLee_2012_FeP__MO_179420363944_000']"
      ]
     },
     "execution_count": 9,
     "metadata": {},
     "output_type": "execute_result"
    }
   ],
   "source": [
    "job.list_potentials()[:10]"
   ]
  },
  {
   "cell_type": "code",
   "execution_count": 10,
   "metadata": {},
   "outputs": [],
   "source": [
    "def run_lammps_calc(structure, job_name, potential):\n",
    "    job = pr.create_job(job_type=pr.job_type.Lammps, job_name=job_name)\n",
    "    job.structure = structure\n",
    "    job.potential = potential\n",
    "    job.calc_minimize(pressure=None,\n",
    "                        max_iter=10000)\n",
    "    job.run(delete_existing_job=True)\n",
    "    return job['output/generic/energy_tot'][-1]"
   ]
  },
  {
   "cell_type": "code",
   "execution_count": 11,
   "metadata": {},
   "outputs": [
    {
     "name": "stderr",
     "output_type": "stream",
     "text": [
      "2023-08-13 18:07:53,473 - pyiron_log - WARNING - No HDF5 file found - remove database entry and create new job! S3_PureGB_0\n"
     ]
    },
    {
     "name": "stdout",
     "output_type": "stream",
     "text": [
      "The job S3_PureGB_0 was saved and received the ID: 1760\n"
     ]
    },
    {
     "name": "stderr",
     "output_type": "stream",
     "text": [
      "2023-08-13 18:07:54,324 - pyiron_log - WARNING - No HDF5 file found - remove database entry and create new job! S3_PureSLAB_0\n"
     ]
    },
    {
     "name": "stdout",
     "output_type": "stream",
     "text": [
      "The job S3_PureSLAB_0 was saved and received the ID: 1761\n"
     ]
    },
    {
     "name": "stderr",
     "output_type": "stream",
     "text": [
      "2023-08-13 18:07:55,141 - pyiron_log - WARNING - No HDF5 file found - remove database entry and create new job! S3_segSLAB_0\n"
     ]
    },
    {
     "name": "stdout",
     "output_type": "stream",
     "text": [
      "The job S3_segSLAB_0 was saved and received the ID: 1762\n",
      "The job S3_segGB_0_GB_P_28_d_5d72 was saved and received the ID: 1763\n",
      "The job S3_segGB_0_GB_P_29_d_5d72 was saved and received the ID: 1764\n",
      "The job S3_segGB_0_GB_P_30_d_4d91 was saved and received the ID: 1765\n",
      "The job S3_segGB_0_GB_P_31_d_4d91 was saved and received the ID: 1766\n",
      "The job S3_segGB_0_GB_P_32_d_4d09 was saved and received the ID: 1767\n",
      "The job S3_segGB_0_GB_P_33_d_4d09 was saved and received the ID: 1768\n",
      "The job S3_segGB_0_GB_P_34_d_3d27 was saved and received the ID: 1769\n",
      "The job S3_segGB_0_GB_P_35_d_3d27 was saved and received the ID: 1770\n",
      "The job S3_segGB_0_GB_P_36_d_2d45 was saved and received the ID: 1771\n",
      "The job S3_segGB_0_GB_P_37_d_2d45 was saved and received the ID: 1772\n",
      "The job S3_segGB_0_GB_P_38_d_1d63 was saved and received the ID: 1773\n",
      "The job S3_segGB_0_GB_P_39_d_1d63 was saved and received the ID: 1774\n",
      "The job S3_segGB_0_GB_P_40_d_0d82 was saved and received the ID: 1775\n",
      "The job S3_segGB_0_GB_P_41_d_0d82 was saved and received the ID: 1776\n",
      "The job S3_segGB_0_GB_P_42_d_0d00 was saved and received the ID: 1777\n",
      "The job S3_segGB_0_GB_P_43_d_0d00 was saved and received the ID: 1778\n",
      "The job S3_segGB_0_GB_P_44_d_0d82 was saved and received the ID: 1779\n",
      "The job S3_segGB_0_GB_P_45_d_0d82 was saved and received the ID: 1780\n",
      "The job S3_segGB_0_GB_P_46_d_1d63 was saved and received the ID: 1781\n",
      "The job S3_segGB_0_GB_P_47_d_1d64 was saved and received the ID: 1782\n",
      "The job S3_segGB_0_GB_P_48_d_2d45 was saved and received the ID: 1783\n",
      "The job S3_segGB_0_GB_P_49_d_2d45 was saved and received the ID: 1784\n",
      "The job S3_segGB_0_GB_P_50_d_3d27 was saved and received the ID: 1785\n",
      "The job S3_segGB_0_GB_P_51_d_3d27 was saved and received the ID: 1786\n",
      "The job S3_segGB_0_GB_P_52_d_4d09 was saved and received the ID: 1787\n",
      "The job S3_segGB_0_GB_P_53_d_4d09 was saved and received the ID: 1788\n",
      "The job S3_segGB_0_GB_P_54_d_4d91 was saved and received the ID: 1789\n",
      "The job S3_segGB_0_GB_P_55_d_4d91 was saved and received the ID: 1790\n",
      "The job S3_segGB_0_GB_P_56_d_5d72 was saved and received the ID: 1791\n",
      "The job S3_segGB_0_GB_P_57_d_5d72 was saved and received the ID: 1792\n"
     ]
    },
    {
     "name": "stderr",
     "output_type": "stream",
     "text": [
      "2023-08-13 18:08:18,471 - pyiron_log - WARNING - No HDF5 file found - remove database entry and create new job! S3_PureGB_1\n"
     ]
    },
    {
     "name": "stdout",
     "output_type": "stream",
     "text": [
      "The job S3_PureGB_1 was saved and received the ID: 1793\n"
     ]
    },
    {
     "name": "stderr",
     "output_type": "stream",
     "text": [
      "2023-08-13 18:08:19,066 - pyiron_log - WARNING - No HDF5 file found - remove database entry and create new job! S3_PureSLAB_1\n"
     ]
    },
    {
     "name": "stdout",
     "output_type": "stream",
     "text": [
      "The job S3_PureSLAB_1 was saved and received the ID: 1794\n"
     ]
    },
    {
     "name": "stderr",
     "output_type": "stream",
     "text": [
      "2023-08-13 18:08:19,552 - pyiron_log - WARNING - No HDF5 file found - remove database entry and create new job! S3_segSLAB_1\n"
     ]
    },
    {
     "name": "stdout",
     "output_type": "stream",
     "text": [
      "The job S3_segSLAB_1 was saved and received the ID: 1795\n",
      "The job S3_segGB_1_GB_P_28_d_5d72 was saved and received the ID: 1796\n",
      "The job S3_segGB_1_GB_P_29_d_5d72 was saved and received the ID: 1797\n",
      "The job S3_segGB_1_GB_P_30_d_4d91 was saved and received the ID: 1798\n",
      "The job S3_segGB_1_GB_P_31_d_4d91 was saved and received the ID: 1799\n",
      "The job S3_segGB_1_GB_P_32_d_4d09 was saved and received the ID: 1800\n",
      "The job S3_segGB_1_GB_P_33_d_4d09 was saved and received the ID: 1801\n",
      "The job S3_segGB_1_GB_P_34_d_3d27 was saved and received the ID: 1802\n",
      "The job S3_segGB_1_GB_P_35_d_3d27 was saved and received the ID: 1803\n",
      "The job S3_segGB_1_GB_P_36_d_2d45 was saved and received the ID: 1804\n",
      "The job S3_segGB_1_GB_P_37_d_2d45 was saved and received the ID: 1805\n",
      "The job S3_segGB_1_GB_P_38_d_1d63 was saved and received the ID: 1806\n",
      "The job S3_segGB_1_GB_P_39_d_1d63 was saved and received the ID: 1807\n",
      "The job S3_segGB_1_GB_P_40_d_0d82 was saved and received the ID: 1808\n",
      "The job S3_segGB_1_GB_P_41_d_0d82 was saved and received the ID: 1809\n",
      "The job S3_segGB_1_GB_P_42_d_0d00 was saved and received the ID: 1810\n",
      "The job S3_segGB_1_GB_P_43_d_0d00 was saved and received the ID: 1811\n",
      "The job S3_segGB_1_GB_P_44_d_0d82 was saved and received the ID: 1812\n",
      "The job S3_segGB_1_GB_P_45_d_0d82 was saved and received the ID: 1813\n",
      "The job S3_segGB_1_GB_P_46_d_1d63 was saved and received the ID: 1814\n",
      "The job S3_segGB_1_GB_P_47_d_1d64 was saved and received the ID: 1815\n",
      "The job S3_segGB_1_GB_P_48_d_2d45 was saved and received the ID: 1816\n",
      "The job S3_segGB_1_GB_P_49_d_2d45 was saved and received the ID: 1817\n",
      "The job S3_segGB_1_GB_P_50_d_3d27 was saved and received the ID: 1818\n",
      "The job S3_segGB_1_GB_P_51_d_3d27 was saved and received the ID: 1819\n",
      "The job S3_segGB_1_GB_P_52_d_4d09 was saved and received the ID: 1820\n",
      "The job S3_segGB_1_GB_P_53_d_4d09 was saved and received the ID: 1821\n",
      "The job S3_segGB_1_GB_P_54_d_4d91 was saved and received the ID: 1822\n",
      "The job S3_segGB_1_GB_P_55_d_4d91 was saved and received the ID: 1823\n",
      "The job S3_segGB_1_GB_P_56_d_5d72 was saved and received the ID: 1824\n",
      "The job S3_segGB_1_GB_P_57_d_5d72 was saved and received the ID: 1825\n"
     ]
    },
    {
     "name": "stderr",
     "output_type": "stream",
     "text": [
      "2023-08-13 18:08:40,290 - pyiron_log - WARNING - No HDF5 file found - remove database entry and create new job! S3_PureGB_2\n",
      "2023-08-13 18:08:40,476 - pyiron_log - WARNING - Job aborted\n",
      "2023-08-13 18:08:40,477 - pyiron_log - WARNING - LAMMPS (28 Mar 2023 - Update 1)\n",
      "Reading data file ...\n",
      "  orthogonal box = (0 0 0) to (4.0048391 6.9365848 44.334343)\n",
      "  1 by 1 by 1 MPI processor grid\n",
      "  reading atoms ...\n",
      "  84 atoms\n",
      "  read_data CPU = 0.000 seconds\n",
      "ERROR: KIM ModelCreate failed (src/KIM/pair_kim.cpp:828)\n",
      "Last command: pair_style kim EAM_Dynamo_AcklandMendelevSrolovitz_2004_FeP__MO_884343146310_005\n",
      "\n",
      "2023-08-13 18:08:40,624 - pyiron_log - WARNING - Job aborted\n",
      "2023-08-13 18:08:40,624 - pyiron_log - WARNING - LAMMPS (28 Mar 2023 - Update 1)\n",
      "Reading data file ...\n",
      "  orthogonal box = (0 0 0) to (4.0048391 6.9365848 44.334343)\n",
      "  1 by 1 by 1 MPI processor grid\n",
      "  reading atoms ...\n",
      "  84 atoms\n",
      "  read_data CPU = 0.000 seconds\n",
      "ERROR: KIM ModelCreate failed (src/KIM/pair_kim.cpp:828)\n",
      "Last command: pair_style kim EAM_Dynamo_AcklandMendelevSrolovitz_2004_FeP__MO_884343146310_005\n",
      "\n"
     ]
    },
    {
     "name": "stdout",
     "output_type": "stream",
     "text": [
      "The job S3_PureGB_2 was saved and received the ID: 1826\n",
      "The job S3_segGB_2_GB_P_29_d_5d72 was saved and received the ID: 1827\n"
     ]
    },
    {
     "name": "stderr",
     "output_type": "stream",
     "text": [
      "2023-08-13 18:08:40,796 - pyiron_log - WARNING - Job aborted\n",
      "2023-08-13 18:08:40,797 - pyiron_log - WARNING - LAMMPS (28 Mar 2023 - Update 1)\n",
      "Reading data file ...\n",
      "  orthogonal box = (0 0 0) to (4.0048391 6.9365848 44.334343)\n",
      "  1 by 1 by 1 MPI processor grid\n",
      "  reading atoms ...\n",
      "  84 atoms\n",
      "  read_data CPU = 0.000 seconds\n",
      "ERROR: KIM ModelCreate failed (src/KIM/pair_kim.cpp:828)\n",
      "Last command: pair_style kim EAM_Dynamo_AcklandMendelevSrolovitz_2004_FeP__MO_884343146310_005\n",
      "\n",
      "2023-08-13 18:08:40,965 - pyiron_log - WARNING - Job aborted\n"
     ]
    },
    {
     "name": "stdout",
     "output_type": "stream",
     "text": [
      "The job S3_segGB_2_GB_P_30_d_4d91 was saved and received the ID: 1828\n",
      "The job S3_segGB_2_GB_P_31_d_4d91 was saved and received the ID: 1829\n"
     ]
    },
    {
     "name": "stderr",
     "output_type": "stream",
     "text": [
      "2023-08-13 18:08:40,967 - pyiron_log - WARNING - LAMMPS (28 Mar 2023 - Update 1)\n",
      "Reading data file ...\n",
      "  orthogonal box = (0 0 0) to (4.0048391 6.9365848 44.334343)\n",
      "  1 by 1 by 1 MPI processor grid\n",
      "  reading atoms ...\n",
      "  84 atoms\n",
      "  read_data CPU = 0.001 seconds\n",
      "ERROR: KIM ModelCreate failed (src/KIM/pair_kim.cpp:828)\n",
      "Last command: pair_style kim EAM_Dynamo_AcklandMendelevSrolovitz_2004_FeP__MO_884343146310_005\n",
      "\n",
      "2023-08-13 18:08:41,118 - pyiron_log - WARNING - Job aborted\n",
      "2023-08-13 18:08:41,119 - pyiron_log - WARNING - LAMMPS (28 Mar 2023 - Update 1)\n",
      "Reading data file ...\n",
      "  orthogonal box = (0 0 0) to (4.0048391 6.9365848 44.334343)\n",
      "  1 by 1 by 1 MPI processor grid\n",
      "  reading atoms ...\n",
      "  84 atoms\n",
      "  read_data CPU = 0.000 seconds\n",
      "ERROR: KIM ModelCreate failed (src/KIM/pair_kim.cpp:828)\n",
      "Last command: pair_style kim EAM_Dynamo_AcklandMendelevSrolovitz_2004_FeP__MO_884343146310_005\n",
      "\n",
      "2023-08-13 18:08:41,282 - pyiron_log - WARNING - Job aborted\n",
      "2023-08-13 18:08:41,283 - pyiron_log - WARNING - LAMMPS (28 Mar 2023 - Update 1)\n",
      "Reading data file ...\n",
      "  orthogonal box = (0 0 0) to (4.0048391 6.9365848 44.334343)\n",
      "  1 by 1 by 1 MPI processor grid\n",
      "  reading atoms ...\n",
      "  84 atoms\n",
      "  read_data CPU = 0.000 seconds\n",
      "ERROR: KIM ModelCreate failed (src/KIM/pair_kim.cpp:828)\n",
      "Last command: pair_style kim EAM_Dynamo_AcklandMendelevSrolovitz_2004_FeP__MO_884343146310_005\n",
      "\n"
     ]
    },
    {
     "name": "stdout",
     "output_type": "stream",
     "text": [
      "The job S3_segGB_2_GB_P_32_d_4d09 was saved and received the ID: 1830\n",
      "The job S3_segGB_2_GB_P_33_d_4d09 was saved and received the ID: 1831\n"
     ]
    },
    {
     "name": "stderr",
     "output_type": "stream",
     "text": [
      "2023-08-13 18:08:41,448 - pyiron_log - WARNING - Job aborted\n",
      "2023-08-13 18:08:41,450 - pyiron_log - WARNING - LAMMPS (28 Mar 2023 - Update 1)\n",
      "Reading data file ...\n",
      "  orthogonal box = (0 0 0) to (4.0048391 6.9365848 44.334343)\n",
      "  1 by 1 by 1 MPI processor grid\n",
      "  reading atoms ...\n",
      "  84 atoms\n",
      "  read_data CPU = 0.000 seconds\n",
      "ERROR: KIM ModelCreate failed (src/KIM/pair_kim.cpp:828)\n",
      "Last command: pair_style kim EAM_Dynamo_AcklandMendelevSrolovitz_2004_FeP__MO_884343146310_005\n",
      "\n",
      "2023-08-13 18:08:41,616 - pyiron_log - WARNING - Job aborted\n"
     ]
    },
    {
     "name": "stdout",
     "output_type": "stream",
     "text": [
      "The job S3_segGB_2_GB_P_34_d_3d27 was saved and received the ID: 1832\n",
      "The job S3_segGB_2_GB_P_35_d_3d27 was saved and received the ID: 1833\n"
     ]
    },
    {
     "name": "stderr",
     "output_type": "stream",
     "text": [
      "2023-08-13 18:08:41,617 - pyiron_log - WARNING - LAMMPS (28 Mar 2023 - Update 1)\n",
      "Reading data file ...\n",
      "  orthogonal box = (0 0 0) to (4.0048391 6.9365848 44.334343)\n",
      "  1 by 1 by 1 MPI processor grid\n",
      "  reading atoms ...\n",
      "  84 atoms\n",
      "  read_data CPU = 0.001 seconds\n",
      "ERROR: KIM ModelCreate failed (src/KIM/pair_kim.cpp:828)\n",
      "Last command: pair_style kim EAM_Dynamo_AcklandMendelevSrolovitz_2004_FeP__MO_884343146310_005\n",
      "\n",
      "2023-08-13 18:08:41,789 - pyiron_log - WARNING - Job aborted\n",
      "2023-08-13 18:08:41,789 - pyiron_log - WARNING - LAMMPS (28 Mar 2023 - Update 1)\n",
      "Reading data file ...\n",
      "  orthogonal box = (0 0 0) to (4.0048391 6.9365848 44.334343)\n",
      "  1 by 1 by 1 MPI processor grid\n",
      "  reading atoms ...\n",
      "  84 atoms\n",
      "  read_data CPU = 0.000 seconds\n",
      "ERROR: KIM ModelCreate failed (src/KIM/pair_kim.cpp:828)\n",
      "Last command: pair_style kim EAM_Dynamo_AcklandMendelevSrolovitz_2004_FeP__MO_884343146310_005\n",
      "\n"
     ]
    },
    {
     "name": "stdout",
     "output_type": "stream",
     "text": [
      "The job S3_segGB_2_GB_P_36_d_2d45 was saved and received the ID: 1834\n",
      "The job S3_segGB_2_GB_P_37_d_2d45 was saved and received the ID: 1835\n"
     ]
    },
    {
     "name": "stderr",
     "output_type": "stream",
     "text": [
      "2023-08-13 18:08:41,961 - pyiron_log - WARNING - Job aborted\n",
      "2023-08-13 18:08:41,962 - pyiron_log - WARNING - LAMMPS (28 Mar 2023 - Update 1)\n",
      "Reading data file ...\n",
      "  orthogonal box = (0 0 0) to (4.0048391 6.9365848 44.334343)\n",
      "  1 by 1 by 1 MPI processor grid\n",
      "  reading atoms ...\n",
      "  84 atoms\n",
      "  read_data CPU = 0.000 seconds\n",
      "ERROR: KIM ModelCreate failed (src/KIM/pair_kim.cpp:828)\n",
      "Last command: pair_style kim EAM_Dynamo_AcklandMendelevSrolovitz_2004_FeP__MO_884343146310_005\n",
      "\n",
      "2023-08-13 18:08:42,125 - pyiron_log - WARNING - Job aborted\n",
      "2023-08-13 18:08:42,125 - pyiron_log - WARNING - LAMMPS (28 Mar 2023 - Update 1)\n",
      "Reading data file ...\n",
      "  orthogonal box = (0 0 0) to (4.0048391 6.9365848 44.334343)\n",
      "  1 by 1 by 1 MPI processor grid\n",
      "  reading atoms ...\n",
      "  84 atoms\n",
      "  read_data CPU = 0.001 seconds\n",
      "ERROR: KIM ModelCreate failed (src/KIM/pair_kim.cpp:828)\n",
      "Last command: pair_style kim EAM_Dynamo_AcklandMendelevSrolovitz_2004_FeP__MO_884343146310_005\n",
      "\n",
      "2023-08-13 18:08:42,284 - pyiron_log - WARNING - Job aborted\n",
      "2023-08-13 18:08:42,285 - pyiron_log - WARNING - LAMMPS (28 Mar 2023 - Update 1)\n",
      "Reading data file ...\n",
      "  orthogonal box = (0 0 0) to (4.0048391 6.9365848 44.334343)\n",
      "  1 by 1 by 1 MPI processor grid\n",
      "  reading atoms ...\n",
      "  84 atoms\n",
      "  read_data CPU = 0.001 seconds\n",
      "ERROR: KIM ModelCreate failed (src/KIM/pair_kim.cpp:828)\n",
      "Last command: pair_style kim EAM_Dynamo_AcklandMendelevSrolovitz_2004_FeP__MO_884343146310_005\n",
      "\n"
     ]
    },
    {
     "name": "stdout",
     "output_type": "stream",
     "text": [
      "The job S3_segGB_2_GB_P_38_d_1d63 was saved and received the ID: 1836\n",
      "The job S3_segGB_2_GB_P_39_d_1d63 was saved and received the ID: 1837\n"
     ]
    },
    {
     "name": "stderr",
     "output_type": "stream",
     "text": [
      "2023-08-13 18:08:42,443 - pyiron_log - WARNING - Job aborted\n",
      "2023-08-13 18:08:42,444 - pyiron_log - WARNING - LAMMPS (28 Mar 2023 - Update 1)\n",
      "Reading data file ...\n",
      "  orthogonal box = (0 0 0) to (4.0048391 6.9365848 44.334343)\n",
      "  1 by 1 by 1 MPI processor grid\n",
      "  reading atoms ...\n",
      "  84 atoms\n",
      "  read_data CPU = 0.000 seconds\n",
      "ERROR: KIM ModelCreate failed (src/KIM/pair_kim.cpp:828)\n",
      "Last command: pair_style kim EAM_Dynamo_AcklandMendelevSrolovitz_2004_FeP__MO_884343146310_005\n",
      "\n"
     ]
    },
    {
     "name": "stdout",
     "output_type": "stream",
     "text": [
      "The job S3_segGB_2_GB_P_40_d_0d82 was saved and received the ID: 1838\n",
      "The job S3_segGB_2_GB_P_41_d_0d82 was saved and received the ID: 1839\n"
     ]
    },
    {
     "name": "stderr",
     "output_type": "stream",
     "text": [
      "2023-08-13 18:08:42,631 - pyiron_log - WARNING - Job aborted\n",
      "2023-08-13 18:08:42,632 - pyiron_log - WARNING - LAMMPS (28 Mar 2023 - Update 1)\n",
      "Reading data file ...\n",
      "  orthogonal box = (0 0 0) to (4.0048391 6.9365848 44.334343)\n",
      "  1 by 1 by 1 MPI processor grid\n",
      "  reading atoms ...\n",
      "  84 atoms\n",
      "  read_data CPU = 0.000 seconds\n",
      "ERROR: KIM ModelCreate failed (src/KIM/pair_kim.cpp:828)\n",
      "Last command: pair_style kim EAM_Dynamo_AcklandMendelevSrolovitz_2004_FeP__MO_884343146310_005\n",
      "\n",
      "2023-08-13 18:08:42,804 - pyiron_log - WARNING - Job aborted\n",
      "2023-08-13 18:08:42,805 - pyiron_log - WARNING - LAMMPS (28 Mar 2023 - Update 1)\n",
      "Reading data file ...\n",
      "  orthogonal box = (0 0 0) to (4.0048391 6.9365848 44.334343)\n",
      "  1 by 1 by 1 MPI processor grid\n",
      "  reading atoms ...\n",
      "  84 atoms\n",
      "  read_data CPU = 0.001 seconds\n",
      "ERROR: KIM ModelCreate failed (src/KIM/pair_kim.cpp:828)\n",
      "Last command: pair_style kim EAM_Dynamo_AcklandMendelevSrolovitz_2004_FeP__MO_884343146310_005\n",
      "\n"
     ]
    },
    {
     "name": "stdout",
     "output_type": "stream",
     "text": [
      "The job S3_segGB_2_GB_P_42_d_0d00 was saved and received the ID: 1840\n",
      "The job S3_segGB_2_GB_P_43_d_0d00 was saved and received the ID: 1841\n"
     ]
    },
    {
     "name": "stderr",
     "output_type": "stream",
     "text": [
      "2023-08-13 18:08:42,980 - pyiron_log - WARNING - Job aborted\n",
      "2023-08-13 18:08:42,981 - pyiron_log - WARNING - LAMMPS (28 Mar 2023 - Update 1)\n",
      "Reading data file ...\n",
      "  orthogonal box = (0 0 0) to (4.0048391 6.9365848 44.334343)\n",
      "  1 by 1 by 1 MPI processor grid\n",
      "  reading atoms ...\n",
      "  84 atoms\n",
      "  read_data CPU = 0.001 seconds\n",
      "ERROR: KIM ModelCreate failed (src/KIM/pair_kim.cpp:828)\n",
      "Last command: pair_style kim EAM_Dynamo_AcklandMendelevSrolovitz_2004_FeP__MO_884343146310_005\n",
      "\n",
      "2023-08-13 18:08:43,140 - pyiron_log - WARNING - Job aborted\n",
      "2023-08-13 18:08:43,141 - pyiron_log - WARNING - LAMMPS (28 Mar 2023 - Update 1)\n",
      "Reading data file ...\n",
      "  orthogonal box = (0 0 0) to (4.0048391 6.9365848 44.334343)\n",
      "  1 by 1 by 1 MPI processor grid\n",
      "  reading atoms ...\n",
      "  84 atoms\n",
      "  read_data CPU = 0.000 seconds\n",
      "ERROR: KIM ModelCreate failed (src/KIM/pair_kim.cpp:828)\n",
      "Last command: pair_style kim EAM_Dynamo_AcklandMendelevSrolovitz_2004_FeP__MO_884343146310_005\n",
      "\n"
     ]
    },
    {
     "name": "stdout",
     "output_type": "stream",
     "text": [
      "The job S3_segGB_2_GB_P_44_d_0d82 was saved and received the ID: 1842\n",
      "The job S3_segGB_2_GB_P_45_d_0d82 was saved and received the ID: 1843\n"
     ]
    },
    {
     "name": "stderr",
     "output_type": "stream",
     "text": [
      "2023-08-13 18:08:43,304 - pyiron_log - WARNING - Job aborted\n",
      "2023-08-13 18:08:43,306 - pyiron_log - WARNING - LAMMPS (28 Mar 2023 - Update 1)\n",
      "Reading data file ...\n",
      "  orthogonal box = (0 0 0) to (4.0048391 6.9365848 44.334343)\n",
      "  1 by 1 by 1 MPI processor grid\n",
      "  reading atoms ...\n",
      "  84 atoms\n",
      "  read_data CPU = 0.000 seconds\n",
      "ERROR: KIM ModelCreate failed (src/KIM/pair_kim.cpp:828)\n",
      "Last command: pair_style kim EAM_Dynamo_AcklandMendelevSrolovitz_2004_FeP__MO_884343146310_005\n",
      "\n",
      "2023-08-13 18:08:43,465 - pyiron_log - WARNING - Job aborted\n",
      "2023-08-13 18:08:43,466 - pyiron_log - WARNING - LAMMPS (28 Mar 2023 - Update 1)\n",
      "Reading data file ...\n",
      "  orthogonal box = (0 0 0) to (4.0048391 6.9365848 44.334343)\n",
      "  1 by 1 by 1 MPI processor grid\n",
      "  reading atoms ...\n",
      "  84 atoms\n",
      "  read_data CPU = 0.000 seconds\n",
      "ERROR: KIM ModelCreate failed (src/KIM/pair_kim.cpp:828)\n",
      "Last command: pair_style kim EAM_Dynamo_AcklandMendelevSrolovitz_2004_FeP__MO_884343146310_005\n",
      "\n",
      "2023-08-13 18:08:43,616 - pyiron_log - WARNING - Job aborted\n",
      "2023-08-13 18:08:43,617 - pyiron_log - WARNING - LAMMPS (28 Mar 2023 - Update 1)\n",
      "Reading data file ...\n",
      "  orthogonal box = (0 0 0) to (4.0048391 6.9365848 44.334343)\n",
      "  1 by 1 by 1 MPI processor grid\n",
      "  reading atoms ...\n",
      "  84 atoms\n",
      "  read_data CPU = 0.000 seconds\n",
      "ERROR: KIM ModelCreate failed (src/KIM/pair_kim.cpp:828)\n",
      "Last command: pair_style kim EAM_Dynamo_AcklandMendelevSrolovitz_2004_FeP__MO_884343146310_005\n",
      "\n"
     ]
    },
    {
     "name": "stdout",
     "output_type": "stream",
     "text": [
      "The job S3_segGB_2_GB_P_46_d_1d63 was saved and received the ID: 1844\n",
      "The job S3_segGB_2_GB_P_47_d_1d64 was saved and received the ID: 1845\n"
     ]
    },
    {
     "name": "stderr",
     "output_type": "stream",
     "text": [
      "2023-08-13 18:08:43,782 - pyiron_log - WARNING - Job aborted\n",
      "2023-08-13 18:08:43,784 - pyiron_log - WARNING - LAMMPS (28 Mar 2023 - Update 1)\n",
      "Reading data file ...\n",
      "  orthogonal box = (0 0 0) to (4.0048391 6.9365848 44.334343)\n",
      "  1 by 1 by 1 MPI processor grid\n",
      "  reading atoms ...\n",
      "  84 atoms\n",
      "  read_data CPU = 0.000 seconds\n",
      "ERROR: KIM ModelCreate failed (src/KIM/pair_kim.cpp:828)\n",
      "Last command: pair_style kim EAM_Dynamo_AcklandMendelevSrolovitz_2004_FeP__MO_884343146310_005\n",
      "\n",
      "2023-08-13 18:08:43,941 - pyiron_log - WARNING - Job aborted\n",
      "2023-08-13 18:08:43,942 - pyiron_log - WARNING - LAMMPS (28 Mar 2023 - Update 1)\n",
      "Reading data file ...\n",
      "  orthogonal box = (0 0 0) to (4.0048391 6.9365848 44.334343)\n",
      "  1 by 1 by 1 MPI processor grid\n",
      "  reading atoms ...\n",
      "  84 atoms\n",
      "  read_data CPU = 0.000 seconds\n",
      "ERROR: KIM ModelCreate failed (src/KIM/pair_kim.cpp:828)\n",
      "Last command: pair_style kim EAM_Dynamo_AcklandMendelevSrolovitz_2004_FeP__MO_884343146310_005\n",
      "\n"
     ]
    },
    {
     "name": "stdout",
     "output_type": "stream",
     "text": [
      "The job S3_segGB_2_GB_P_48_d_2d45 was saved and received the ID: 1846\n",
      "The job S3_segGB_2_GB_P_49_d_2d45 was saved and received the ID: 1847\n"
     ]
    },
    {
     "name": "stderr",
     "output_type": "stream",
     "text": [
      "2023-08-13 18:08:44,107 - pyiron_log - WARNING - Job aborted\n",
      "2023-08-13 18:08:44,108 - pyiron_log - WARNING - LAMMPS (28 Mar 2023 - Update 1)\n",
      "Reading data file ...\n",
      "  orthogonal box = (0 0 0) to (4.0048391 6.9365848 44.334343)\n",
      "  1 by 1 by 1 MPI processor grid\n",
      "  reading atoms ...\n",
      "  84 atoms\n",
      "  read_data CPU = 0.000 seconds\n",
      "ERROR: KIM ModelCreate failed (src/KIM/pair_kim.cpp:828)\n",
      "Last command: pair_style kim EAM_Dynamo_AcklandMendelevSrolovitz_2004_FeP__MO_884343146310_005\n",
      "\n"
     ]
    },
    {
     "name": "stdout",
     "output_type": "stream",
     "text": [
      "The job S3_segGB_2_GB_P_50_d_3d27 was saved and received the ID: 1848\n",
      "The job S3_segGB_2_GB_P_51_d_3d27 was saved and received the ID: 1849\n"
     ]
    },
    {
     "name": "stderr",
     "output_type": "stream",
     "text": [
      "2023-08-13 18:08:44,286 - pyiron_log - WARNING - Job aborted\n",
      "2023-08-13 18:08:44,287 - pyiron_log - WARNING - LAMMPS (28 Mar 2023 - Update 1)\n",
      "Reading data file ...\n",
      "  orthogonal box = (0 0 0) to (4.0048391 6.9365848 44.334343)\n",
      "  1 by 1 by 1 MPI processor grid\n",
      "  reading atoms ...\n",
      "  84 atoms\n",
      "  read_data CPU = 0.000 seconds\n",
      "ERROR: KIM ModelCreate failed (src/KIM/pair_kim.cpp:828)\n",
      "Last command: pair_style kim EAM_Dynamo_AcklandMendelevSrolovitz_2004_FeP__MO_884343146310_005\n",
      "\n",
      "2023-08-13 18:08:44,458 - pyiron_log - WARNING - Job aborted\n",
      "2023-08-13 18:08:44,458 - pyiron_log - WARNING - LAMMPS (28 Mar 2023 - Update 1)\n",
      "Reading data file ...\n",
      "  orthogonal box = (0 0 0) to (4.0048391 6.9365848 44.334343)\n",
      "  1 by 1 by 1 MPI processor grid\n",
      "  reading atoms ...\n",
      "  84 atoms\n",
      "  read_data CPU = 0.001 seconds\n",
      "ERROR: KIM ModelCreate failed (src/KIM/pair_kim.cpp:828)\n",
      "Last command: pair_style kim EAM_Dynamo_AcklandMendelevSrolovitz_2004_FeP__MO_884343146310_005\n",
      "\n",
      "2023-08-13 18:08:44,621 - pyiron_log - WARNING - Job aborted\n"
     ]
    },
    {
     "name": "stdout",
     "output_type": "stream",
     "text": [
      "The job S3_segGB_2_GB_P_52_d_4d09 was saved and received the ID: 1850\n",
      "The job S3_segGB_2_GB_P_53_d_4d09 was saved and received the ID: 1851\n"
     ]
    },
    {
     "name": "stderr",
     "output_type": "stream",
     "text": [
      "2023-08-13 18:08:44,623 - pyiron_log - WARNING - LAMMPS (28 Mar 2023 - Update 1)\n",
      "Reading data file ...\n",
      "  orthogonal box = (0 0 0) to (4.0048391 6.9365848 44.334343)\n",
      "  1 by 1 by 1 MPI processor grid\n",
      "  reading atoms ...\n",
      "  84 atoms\n",
      "  read_data CPU = 0.000 seconds\n",
      "ERROR: KIM ModelCreate failed (src/KIM/pair_kim.cpp:828)\n",
      "Last command: pair_style kim EAM_Dynamo_AcklandMendelevSrolovitz_2004_FeP__MO_884343146310_005\n",
      "\n",
      "2023-08-13 18:08:44,836 - pyiron_log - WARNING - Job aborted\n",
      "2023-08-13 18:08:44,837 - pyiron_log - WARNING - LAMMPS (28 Mar 2023 - Update 1)\n",
      "Reading data file ...\n",
      "  orthogonal box = (0 0 0) to (4.0048391 6.9365848 44.334343)\n",
      "  1 by 1 by 1 MPI processor grid\n",
      "  reading atoms ...\n",
      "  84 atoms\n",
      "  read_data CPU = 0.000 seconds\n",
      "ERROR: KIM ModelCreate failed (src/KIM/pair_kim.cpp:828)\n",
      "Last command: pair_style kim EAM_Dynamo_AcklandMendelevSrolovitz_2004_FeP__MO_884343146310_005\n",
      "\n",
      "2023-08-13 18:08:45,000 - pyiron_log - WARNING - Job aborted\n",
      "2023-08-13 18:08:45,001 - pyiron_log - WARNING - LAMMPS (28 Mar 2023 - Update 1)\n",
      "Reading data file ...\n",
      "  orthogonal box = (0 0 0) to (4.0048391 6.9365848 44.334343)\n",
      "  1 by 1 by 1 MPI processor grid\n",
      "  reading atoms ...\n",
      "  84 atoms\n",
      "  read_data CPU = 0.000 seconds\n",
      "ERROR: KIM ModelCreate failed (src/KIM/pair_kim.cpp:828)\n",
      "Last command: pair_style kim EAM_Dynamo_AcklandMendelevSrolovitz_2004_FeP__MO_884343146310_005\n",
      "\n"
     ]
    },
    {
     "name": "stdout",
     "output_type": "stream",
     "text": [
      "The job S3_segGB_2_GB_P_54_d_4d91 was saved and received the ID: 1852\n",
      "The job S3_segGB_2_GB_P_55_d_4d91 was saved and received the ID: 1853\n"
     ]
    },
    {
     "name": "stderr",
     "output_type": "stream",
     "text": [
      "2023-08-13 18:08:45,173 - pyiron_log - WARNING - Job aborted\n",
      "2023-08-13 18:08:45,174 - pyiron_log - WARNING - LAMMPS (28 Mar 2023 - Update 1)\n",
      "Reading data file ...\n",
      "  orthogonal box = (0 0 0) to (4.0048391 6.9365848 44.334343)\n",
      "  1 by 1 by 1 MPI processor grid\n",
      "  reading atoms ...\n",
      "  84 atoms\n",
      "  read_data CPU = 0.001 seconds\n",
      "ERROR: KIM ModelCreate failed (src/KIM/pair_kim.cpp:828)\n",
      "Last command: pair_style kim EAM_Dynamo_AcklandMendelevSrolovitz_2004_FeP__MO_884343146310_005\n",
      "\n"
     ]
    },
    {
     "name": "stdout",
     "output_type": "stream",
     "text": [
      "The job S3_segGB_2_GB_P_56_d_5d72 was saved and received the ID: 1854\n",
      "The job S3_segGB_2_GB_P_57_d_5d72 was saved and received the ID: 1855\n"
     ]
    },
    {
     "name": "stderr",
     "output_type": "stream",
     "text": [
      "2023-08-13 18:08:45,345 - pyiron_log - WARNING - Job aborted\n",
      "2023-08-13 18:08:45,346 - pyiron_log - WARNING - LAMMPS (28 Mar 2023 - Update 1)\n",
      "Reading data file ...\n",
      "  orthogonal box = (0 0 0) to (4.0048391 6.9365848 44.334343)\n",
      "  1 by 1 by 1 MPI processor grid\n",
      "  reading atoms ...\n",
      "  84 atoms\n",
      "  read_data CPU = 0.000 seconds\n",
      "ERROR: KIM ModelCreate failed (src/KIM/pair_kim.cpp:828)\n",
      "Last command: pair_style kim EAM_Dynamo_AcklandMendelevSrolovitz_2004_FeP__MO_884343146310_005\n",
      "\n",
      "2023-08-13 18:08:45,366 - pyiron_log - WARNING - No HDF5 file found - remove database entry and create new job! S3_PureGB_3\n",
      "2023-08-13 18:08:45,521 - pyiron_log - WARNING - Job aborted\n",
      "2023-08-13 18:08:45,522 - pyiron_log - WARNING - LAMMPS (28 Mar 2023 - Update 1)\n",
      "Reading data file ...\n",
      "  orthogonal box = (0 0 0) to (4.0048391 6.9365848 44.334343)\n",
      "  1 by 1 by 1 MPI processor grid\n",
      "  reading atoms ...\n",
      "  84 atoms\n",
      "  read_data CPU = 0.000 seconds\n",
      "ERROR: KIM ModelCreate failed (src/KIM/pair_kim.cpp:828)\n",
      "Last command: pair_style kim MEAM_LAMMPS_KoJimLee_2012_FeP__MO_179420363944_000\n",
      "\n",
      "2023-08-13 18:08:45,676 - pyiron_log - WARNING - Job aborted\n",
      "2023-08-13 18:08:45,677 - pyiron_log - WARNING - LAMMPS (28 Mar 2023 - Update 1)\n",
      "Reading data file ...\n",
      "  orthogonal box = (0 0 0) to (4.0048391 6.9365848 44.334343)\n",
      "  1 by 1 by 1 MPI processor grid\n",
      "  reading atoms ...\n",
      "  84 atoms\n",
      "  read_data CPU = 0.004 seconds\n",
      "ERROR: KIM ModelCreate failed (src/KIM/pair_kim.cpp:828)\n",
      "Last command: pair_style kim MEAM_LAMMPS_KoJimLee_2012_FeP__MO_179420363944_000\n",
      "\n"
     ]
    },
    {
     "name": "stdout",
     "output_type": "stream",
     "text": [
      "The job S3_PureGB_3 was saved and received the ID: 1856\n",
      "The job S3_segGB_3_GB_P_29_d_5d72 was saved and received the ID: 1857\n"
     ]
    },
    {
     "name": "stderr",
     "output_type": "stream",
     "text": [
      "2023-08-13 18:08:45,852 - pyiron_log - WARNING - Job aborted\n",
      "2023-08-13 18:08:45,853 - pyiron_log - WARNING - LAMMPS (28 Mar 2023 - Update 1)\n",
      "Reading data file ...\n",
      "  orthogonal box = (0 0 0) to (4.0048391 6.9365848 44.334343)\n",
      "  1 by 1 by 1 MPI processor grid\n",
      "  reading atoms ...\n",
      "  84 atoms\n",
      "  read_data CPU = 0.000 seconds\n",
      "ERROR: KIM ModelCreate failed (src/KIM/pair_kim.cpp:828)\n",
      "Last command: pair_style kim MEAM_LAMMPS_KoJimLee_2012_FeP__MO_179420363944_000\n",
      "\n",
      "2023-08-13 18:08:46,012 - pyiron_log - WARNING - Job aborted\n"
     ]
    },
    {
     "name": "stdout",
     "output_type": "stream",
     "text": [
      "The job S3_segGB_3_GB_P_30_d_4d91 was saved and received the ID: 1858\n",
      "The job S3_segGB_3_GB_P_31_d_4d91 was saved and received the ID: 1859\n"
     ]
    },
    {
     "name": "stderr",
     "output_type": "stream",
     "text": [
      "2023-08-13 18:08:46,013 - pyiron_log - WARNING - LAMMPS (28 Mar 2023 - Update 1)\n",
      "Reading data file ...\n",
      "  orthogonal box = (0 0 0) to (4.0048391 6.9365848 44.334343)\n",
      "  1 by 1 by 1 MPI processor grid\n",
      "  reading atoms ...\n",
      "  84 atoms\n",
      "  read_data CPU = 0.000 seconds\n",
      "ERROR: KIM ModelCreate failed (src/KIM/pair_kim.cpp:828)\n",
      "Last command: pair_style kim MEAM_LAMMPS_KoJimLee_2012_FeP__MO_179420363944_000\n",
      "\n",
      "2023-08-13 18:08:46,230 - pyiron_log - WARNING - Job aborted\n",
      "2023-08-13 18:08:46,231 - pyiron_log - WARNING - LAMMPS (28 Mar 2023 - Update 1)\n",
      "Reading data file ...\n",
      "  orthogonal box = (0 0 0) to (4.0048391 6.9365848 44.334343)\n",
      "  1 by 1 by 1 MPI processor grid\n",
      "  reading atoms ...\n",
      "  84 atoms\n",
      "  read_data CPU = 0.000 seconds\n",
      "ERROR: KIM ModelCreate failed (src/KIM/pair_kim.cpp:828)\n",
      "Last command: pair_style kim MEAM_LAMMPS_KoJimLee_2012_FeP__MO_179420363944_000\n",
      "\n",
      "2023-08-13 18:08:46,393 - pyiron_log - WARNING - Job aborted\n",
      "2023-08-13 18:08:46,394 - pyiron_log - WARNING - LAMMPS (28 Mar 2023 - Update 1)\n",
      "Reading data file ...\n",
      "  orthogonal box = (0 0 0) to (4.0048391 6.9365848 44.334343)\n",
      "  1 by 1 by 1 MPI processor grid\n",
      "  reading atoms ...\n",
      "  84 atoms\n",
      "  read_data CPU = 0.000 seconds\n",
      "ERROR: KIM ModelCreate failed (src/KIM/pair_kim.cpp:828)\n",
      "Last command: pair_style kim MEAM_LAMMPS_KoJimLee_2012_FeP__MO_179420363944_000\n",
      "\n"
     ]
    },
    {
     "name": "stdout",
     "output_type": "stream",
     "text": [
      "The job S3_segGB_3_GB_P_32_d_4d09 was saved and received the ID: 1860\n",
      "The job S3_segGB_3_GB_P_33_d_4d09 was saved and received the ID: 1861\n"
     ]
    },
    {
     "name": "stderr",
     "output_type": "stream",
     "text": [
      "2023-08-13 18:08:46,553 - pyiron_log - WARNING - Job aborted\n",
      "2023-08-13 18:08:46,553 - pyiron_log - WARNING - LAMMPS (28 Mar 2023 - Update 1)\n",
      "Reading data file ...\n",
      "  orthogonal box = (0 0 0) to (4.0048391 6.9365848 44.334343)\n",
      "  1 by 1 by 1 MPI processor grid\n",
      "  reading atoms ...\n",
      "  84 atoms\n",
      "  read_data CPU = 0.000 seconds\n",
      "ERROR: KIM ModelCreate failed (src/KIM/pair_kim.cpp:828)\n",
      "Last command: pair_style kim MEAM_LAMMPS_KoJimLee_2012_FeP__MO_179420363944_000\n",
      "\n"
     ]
    },
    {
     "name": "stdout",
     "output_type": "stream",
     "text": [
      "The job S3_segGB_3_GB_P_34_d_3d27 was saved and received the ID: 1862\n",
      "The job S3_segGB_3_GB_P_35_d_3d27 was saved and received the ID: 1863\n"
     ]
    },
    {
     "name": "stderr",
     "output_type": "stream",
     "text": [
      "2023-08-13 18:08:46,738 - pyiron_log - WARNING - Job aborted\n",
      "2023-08-13 18:08:46,739 - pyiron_log - WARNING - LAMMPS (28 Mar 2023 - Update 1)\n",
      "Reading data file ...\n",
      "  orthogonal box = (0 0 0) to (4.0048391 6.9365848 44.334343)\n",
      "  1 by 1 by 1 MPI processor grid\n",
      "  reading atoms ...\n",
      "  84 atoms\n",
      "  read_data CPU = 0.000 seconds\n",
      "ERROR: KIM ModelCreate failed (src/KIM/pair_kim.cpp:828)\n",
      "Last command: pair_style kim MEAM_LAMMPS_KoJimLee_2012_FeP__MO_179420363944_000\n",
      "\n",
      "2023-08-13 18:08:46,895 - pyiron_log - WARNING - Job aborted\n",
      "2023-08-13 18:08:46,896 - pyiron_log - WARNING - LAMMPS (28 Mar 2023 - Update 1)\n",
      "Reading data file ...\n",
      "  orthogonal box = (0 0 0) to (4.0048391 6.9365848 44.334343)\n",
      "  1 by 1 by 1 MPI processor grid\n",
      "  reading atoms ...\n",
      "  84 atoms\n",
      "  read_data CPU = 0.000 seconds\n",
      "ERROR: KIM ModelCreate failed (src/KIM/pair_kim.cpp:828)\n",
      "Last command: pair_style kim MEAM_LAMMPS_KoJimLee_2012_FeP__MO_179420363944_000\n",
      "\n",
      "2023-08-13 18:08:47,055 - pyiron_log - WARNING - Job aborted\n",
      "2023-08-13 18:08:47,056 - pyiron_log - WARNING - LAMMPS (28 Mar 2023 - Update 1)\n",
      "Reading data file ...\n",
      "  orthogonal box = (0 0 0) to (4.0048391 6.9365848 44.334343)\n",
      "  1 by 1 by 1 MPI processor grid\n",
      "  reading atoms ...\n",
      "  84 atoms\n",
      "  read_data CPU = 0.000 seconds\n",
      "ERROR: KIM ModelCreate failed (src/KIM/pair_kim.cpp:828)\n",
      "Last command: pair_style kim MEAM_LAMMPS_KoJimLee_2012_FeP__MO_179420363944_000\n",
      "\n"
     ]
    },
    {
     "name": "stdout",
     "output_type": "stream",
     "text": [
      "The job S3_segGB_3_GB_P_36_d_2d45 was saved and received the ID: 1864\n",
      "The job S3_segGB_3_GB_P_37_d_2d45 was saved and received the ID: 1865\n"
     ]
    },
    {
     "name": "stderr",
     "output_type": "stream",
     "text": [
      "2023-08-13 18:08:47,229 - pyiron_log - WARNING - Job aborted\n",
      "2023-08-13 18:08:47,230 - pyiron_log - WARNING - LAMMPS (28 Mar 2023 - Update 1)\n",
      "Reading data file ...\n",
      "  orthogonal box = (0 0 0) to (4.0048391 6.9365848 44.334343)\n",
      "  1 by 1 by 1 MPI processor grid\n",
      "  reading atoms ...\n",
      "  84 atoms\n",
      "  read_data CPU = 0.000 seconds\n",
      "ERROR: KIM ModelCreate failed (src/KIM/pair_kim.cpp:828)\n",
      "Last command: pair_style kim MEAM_LAMMPS_KoJimLee_2012_FeP__MO_179420363944_000\n",
      "\n"
     ]
    },
    {
     "name": "stdout",
     "output_type": "stream",
     "text": [
      "The job S3_segGB_3_GB_P_38_d_1d63 was saved and received the ID: 1866\n",
      "The job S3_segGB_3_GB_P_39_d_1d63 was saved and received the ID: 1867\n"
     ]
    },
    {
     "name": "stderr",
     "output_type": "stream",
     "text": [
      "2023-08-13 18:08:47,400 - pyiron_log - WARNING - Job aborted\n",
      "2023-08-13 18:08:47,402 - pyiron_log - WARNING - LAMMPS (28 Mar 2023 - Update 1)\n",
      "Reading data file ...\n",
      "  orthogonal box = (0 0 0) to (4.0048391 6.9365848 44.334343)\n",
      "  1 by 1 by 1 MPI processor grid\n",
      "  reading atoms ...\n",
      "  84 atoms\n",
      "  read_data CPU = 0.000 seconds\n",
      "ERROR: KIM ModelCreate failed (src/KIM/pair_kim.cpp:828)\n",
      "Last command: pair_style kim MEAM_LAMMPS_KoJimLee_2012_FeP__MO_179420363944_000\n",
      "\n",
      "2023-08-13 18:08:47,570 - pyiron_log - WARNING - Job aborted\n",
      "2023-08-13 18:08:47,571 - pyiron_log - WARNING - LAMMPS (28 Mar 2023 - Update 1)\n",
      "Reading data file ...\n",
      "  orthogonal box = (0 0 0) to (4.0048391 6.9365848 44.334343)\n",
      "  1 by 1 by 1 MPI processor grid\n",
      "  reading atoms ...\n",
      "  84 atoms\n",
      "  read_data CPU = 0.000 seconds\n",
      "ERROR: KIM ModelCreate failed (src/KIM/pair_kim.cpp:828)\n",
      "Last command: pair_style kim MEAM_LAMMPS_KoJimLee_2012_FeP__MO_179420363944_000\n",
      "\n"
     ]
    },
    {
     "name": "stdout",
     "output_type": "stream",
     "text": [
      "The job S3_segGB_3_GB_P_40_d_0d82 was saved and received the ID: 1868\n",
      "The job S3_segGB_3_GB_P_41_d_0d82 was saved and received the ID: 1869\n"
     ]
    },
    {
     "name": "stderr",
     "output_type": "stream",
     "text": [
      "2023-08-13 18:08:47,761 - pyiron_log - WARNING - Job aborted\n",
      "2023-08-13 18:08:47,762 - pyiron_log - WARNING - LAMMPS (28 Mar 2023 - Update 1)\n",
      "Reading data file ...\n",
      "  orthogonal box = (0 0 0) to (4.0048391 6.9365848 44.334343)\n",
      "  1 by 1 by 1 MPI processor grid\n",
      "  reading atoms ...\n",
      "  84 atoms\n",
      "  read_data CPU = 0.000 seconds\n",
      "ERROR: KIM ModelCreate failed (src/KIM/pair_kim.cpp:828)\n",
      "Last command: pair_style kim MEAM_LAMMPS_KoJimLee_2012_FeP__MO_179420363944_000\n",
      "\n",
      "2023-08-13 18:08:48,001 - pyiron_log - WARNING - Job aborted\n",
      "2023-08-13 18:08:48,002 - pyiron_log - WARNING - LAMMPS (28 Mar 2023 - Update 1)\n",
      "Reading data file ...\n",
      "  orthogonal box = (0 0 0) to (4.0048391 6.9365848 44.334343)\n",
      "  1 by 1 by 1 MPI processor grid\n",
      "  reading atoms ...\n",
      "  84 atoms\n",
      "  read_data CPU = 0.000 seconds\n",
      "ERROR: KIM ModelCreate failed (src/KIM/pair_kim.cpp:828)\n",
      "Last command: pair_style kim MEAM_LAMMPS_KoJimLee_2012_FeP__MO_179420363944_000\n",
      "\n"
     ]
    },
    {
     "name": "stdout",
     "output_type": "stream",
     "text": [
      "The job S3_segGB_3_GB_P_42_d_0d00 was saved and received the ID: 1870\n",
      "The job S3_segGB_3_GB_P_43_d_0d00 was saved and received the ID: 1871\n"
     ]
    },
    {
     "name": "stderr",
     "output_type": "stream",
     "text": [
      "2023-08-13 18:08:48,209 - pyiron_log - WARNING - Job aborted\n",
      "2023-08-13 18:08:48,210 - pyiron_log - WARNING - LAMMPS (28 Mar 2023 - Update 1)\n",
      "Reading data file ...\n",
      "  orthogonal box = (0 0 0) to (4.0048391 6.9365848 44.334343)\n",
      "  1 by 1 by 1 MPI processor grid\n",
      "  reading atoms ...\n",
      "  84 atoms\n",
      "  read_data CPU = 0.000 seconds\n",
      "ERROR: KIM ModelCreate failed (src/KIM/pair_kim.cpp:828)\n",
      "Last command: pair_style kim MEAM_LAMMPS_KoJimLee_2012_FeP__MO_179420363944_000\n",
      "\n",
      "2023-08-13 18:08:48,392 - pyiron_log - WARNING - Job aborted\n",
      "2023-08-13 18:08:48,393 - pyiron_log - WARNING - LAMMPS (28 Mar 2023 - Update 1)\n",
      "Reading data file ...\n",
      "  orthogonal box = (0 0 0) to (4.0048391 6.9365848 44.334343)\n",
      "  1 by 1 by 1 MPI processor grid\n",
      "  reading atoms ...\n",
      "  84 atoms\n",
      "  read_data CPU = 0.000 seconds\n",
      "ERROR: KIM ModelCreate failed (src/KIM/pair_kim.cpp:828)\n",
      "Last command: pair_style kim MEAM_LAMMPS_KoJimLee_2012_FeP__MO_179420363944_000\n",
      "\n"
     ]
    },
    {
     "name": "stdout",
     "output_type": "stream",
     "text": [
      "The job S3_segGB_3_GB_P_44_d_0d82 was saved and received the ID: 1872\n",
      "The job S3_segGB_3_GB_P_45_d_0d82 was saved and received the ID: 1873\n"
     ]
    },
    {
     "name": "stderr",
     "output_type": "stream",
     "text": [
      "2023-08-13 18:08:48,589 - pyiron_log - WARNING - Job aborted\n",
      "2023-08-13 18:08:48,590 - pyiron_log - WARNING - LAMMPS (28 Mar 2023 - Update 1)\n",
      "Reading data file ...\n",
      "  orthogonal box = (0 0 0) to (4.0048391 6.9365848 44.334343)\n",
      "  1 by 1 by 1 MPI processor grid\n",
      "  reading atoms ...\n",
      "  84 atoms\n",
      "  read_data CPU = 0.000 seconds\n",
      "ERROR: KIM ModelCreate failed (src/KIM/pair_kim.cpp:828)\n",
      "Last command: pair_style kim MEAM_LAMMPS_KoJimLee_2012_FeP__MO_179420363944_000\n",
      "\n",
      "2023-08-13 18:08:48,801 - pyiron_log - WARNING - Job aborted\n",
      "2023-08-13 18:08:48,802 - pyiron_log - WARNING - LAMMPS (28 Mar 2023 - Update 1)\n",
      "Reading data file ...\n",
      "  orthogonal box = (0 0 0) to (4.0048391 6.9365848 44.334343)\n",
      "  1 by 1 by 1 MPI processor grid\n",
      "  reading atoms ...\n",
      "  84 atoms\n",
      "  read_data CPU = 0.000 seconds\n",
      "ERROR: KIM ModelCreate failed (src/KIM/pair_kim.cpp:828)\n",
      "Last command: pair_style kim MEAM_LAMMPS_KoJimLee_2012_FeP__MO_179420363944_000\n",
      "\n"
     ]
    },
    {
     "name": "stdout",
     "output_type": "stream",
     "text": [
      "The job S3_segGB_3_GB_P_46_d_1d63 was saved and received the ID: 1874\n",
      "The job S3_segGB_3_GB_P_47_d_1d64 was saved and received the ID: 1875\n"
     ]
    },
    {
     "name": "stderr",
     "output_type": "stream",
     "text": [
      "2023-08-13 18:08:48,985 - pyiron_log - WARNING - Job aborted\n",
      "2023-08-13 18:08:48,986 - pyiron_log - WARNING - LAMMPS (28 Mar 2023 - Update 1)\n",
      "Reading data file ...\n",
      "  orthogonal box = (0 0 0) to (4.0048391 6.9365848 44.334343)\n",
      "  1 by 1 by 1 MPI processor grid\n",
      "  reading atoms ...\n",
      "  84 atoms\n",
      "  read_data CPU = 0.000 seconds\n",
      "ERROR: KIM ModelCreate failed (src/KIM/pair_kim.cpp:828)\n",
      "Last command: pair_style kim MEAM_LAMMPS_KoJimLee_2012_FeP__MO_179420363944_000\n",
      "\n",
      "2023-08-13 18:08:49,171 - pyiron_log - WARNING - Job aborted\n",
      "2023-08-13 18:08:49,172 - pyiron_log - WARNING - LAMMPS (28 Mar 2023 - Update 1)\n",
      "Reading data file ...\n",
      "  orthogonal box = (0 0 0) to (4.0048391 6.9365848 44.334343)\n",
      "  1 by 1 by 1 MPI processor grid\n",
      "  reading atoms ...\n",
      "  84 atoms\n",
      "  read_data CPU = 0.000 seconds\n",
      "ERROR: KIM ModelCreate failed (src/KIM/pair_kim.cpp:828)\n",
      "Last command: pair_style kim MEAM_LAMMPS_KoJimLee_2012_FeP__MO_179420363944_000\n",
      "\n"
     ]
    },
    {
     "name": "stdout",
     "output_type": "stream",
     "text": [
      "The job S3_segGB_3_GB_P_48_d_2d45 was saved and received the ID: 1876\n",
      "The job S3_segGB_3_GB_P_49_d_2d45 was saved and received the ID: 1877\n"
     ]
    },
    {
     "name": "stderr",
     "output_type": "stream",
     "text": [
      "2023-08-13 18:08:49,373 - pyiron_log - WARNING - Job aborted\n",
      "2023-08-13 18:08:49,374 - pyiron_log - WARNING - LAMMPS (28 Mar 2023 - Update 1)\n",
      "Reading data file ...\n",
      "  orthogonal box = (0 0 0) to (4.0048391 6.9365848 44.334343)\n",
      "  1 by 1 by 1 MPI processor grid\n",
      "  reading atoms ...\n",
      "  84 atoms\n",
      "  read_data CPU = 0.000 seconds\n",
      "ERROR: KIM ModelCreate failed (src/KIM/pair_kim.cpp:828)\n",
      "Last command: pair_style kim MEAM_LAMMPS_KoJimLee_2012_FeP__MO_179420363944_000\n",
      "\n",
      "2023-08-13 18:08:49,579 - pyiron_log - WARNING - Job aborted\n",
      "2023-08-13 18:08:49,580 - pyiron_log - WARNING - LAMMPS (28 Mar 2023 - Update 1)\n",
      "Reading data file ...\n",
      "  orthogonal box = (0 0 0) to (4.0048391 6.9365848 44.334343)\n",
      "  1 by 1 by 1 MPI processor grid\n",
      "  reading atoms ...\n",
      "  84 atoms\n",
      "  read_data CPU = 0.000 seconds\n",
      "ERROR: KIM ModelCreate failed (src/KIM/pair_kim.cpp:828)\n",
      "Last command: pair_style kim MEAM_LAMMPS_KoJimLee_2012_FeP__MO_179420363944_000\n",
      "\n"
     ]
    },
    {
     "name": "stdout",
     "output_type": "stream",
     "text": [
      "The job S3_segGB_3_GB_P_50_d_3d27 was saved and received the ID: 1878\n"
     ]
    },
    {
     "name": "stderr",
     "output_type": "stream",
     "text": [
      "2023-08-13 18:08:49,809 - pyiron_log - WARNING - Job aborted\n",
      "2023-08-13 18:08:49,811 - pyiron_log - WARNING - LAMMPS (28 Mar 2023 - Update 1)\n",
      "Reading data file ...\n",
      "  orthogonal box = (0 0 0) to (4.0048391 6.9365848 44.334343)\n",
      "  1 by 1 by 1 MPI processor grid\n",
      "  reading atoms ...\n",
      "  84 atoms\n",
      "  read_data CPU = 0.000 seconds\n",
      "ERROR: KIM ModelCreate failed (src/KIM/pair_kim.cpp:828)\n",
      "Last command: pair_style kim MEAM_LAMMPS_KoJimLee_2012_FeP__MO_179420363944_000\n",
      "\n"
     ]
    },
    {
     "name": "stdout",
     "output_type": "stream",
     "text": [
      "The job S3_segGB_3_GB_P_51_d_3d27 was saved and received the ID: 1879\n",
      "The job S3_segGB_3_GB_P_52_d_4d09 was saved and received the ID: 1880\n"
     ]
    },
    {
     "name": "stderr",
     "output_type": "stream",
     "text": [
      "2023-08-13 18:08:49,993 - pyiron_log - WARNING - Job aborted\n",
      "2023-08-13 18:08:49,994 - pyiron_log - WARNING - LAMMPS (28 Mar 2023 - Update 1)\n",
      "Reading data file ...\n",
      "  orthogonal box = (0 0 0) to (4.0048391 6.9365848 44.334343)\n",
      "  1 by 1 by 1 MPI processor grid\n",
      "  reading atoms ...\n",
      "  84 atoms\n",
      "  read_data CPU = 0.000 seconds\n",
      "ERROR: KIM ModelCreate failed (src/KIM/pair_kim.cpp:828)\n",
      "Last command: pair_style kim MEAM_LAMMPS_KoJimLee_2012_FeP__MO_179420363944_000\n",
      "\n",
      "2023-08-13 18:08:50,203 - pyiron_log - WARNING - Job aborted\n",
      "2023-08-13 18:08:50,204 - pyiron_log - WARNING - LAMMPS (28 Mar 2023 - Update 1)\n",
      "Reading data file ...\n",
      "  orthogonal box = (0 0 0) to (4.0048391 6.9365848 44.334343)\n",
      "  1 by 1 by 1 MPI processor grid\n",
      "  reading atoms ...\n",
      "  84 atoms\n",
      "  read_data CPU = 0.000 seconds\n",
      "ERROR: KIM ModelCreate failed (src/KIM/pair_kim.cpp:828)\n",
      "Last command: pair_style kim MEAM_LAMMPS_KoJimLee_2012_FeP__MO_179420363944_000\n",
      "\n"
     ]
    },
    {
     "name": "stdout",
     "output_type": "stream",
     "text": [
      "The job S3_segGB_3_GB_P_53_d_4d09 was saved and received the ID: 1881\n"
     ]
    },
    {
     "name": "stderr",
     "output_type": "stream",
     "text": [
      "2023-08-13 18:08:50,438 - pyiron_log - WARNING - Job aborted\n",
      "2023-08-13 18:08:50,439 - pyiron_log - WARNING - LAMMPS (28 Mar 2023 - Update 1)\n",
      "Reading data file ...\n",
      "  orthogonal box = (0 0 0) to (4.0048391 6.9365848 44.334343)\n",
      "  1 by 1 by 1 MPI processor grid\n",
      "  reading atoms ...\n",
      "  84 atoms\n",
      "  read_data CPU = 0.000 seconds\n",
      "ERROR: KIM ModelCreate failed (src/KIM/pair_kim.cpp:828)\n",
      "Last command: pair_style kim MEAM_LAMMPS_KoJimLee_2012_FeP__MO_179420363944_000\n",
      "\n"
     ]
    },
    {
     "name": "stdout",
     "output_type": "stream",
     "text": [
      "The job S3_segGB_3_GB_P_54_d_4d91 was saved and received the ID: 1882\n"
     ]
    },
    {
     "name": "stderr",
     "output_type": "stream",
     "text": [
      "2023-08-13 18:08:50,684 - pyiron_log - WARNING - Job aborted\n",
      "2023-08-13 18:08:50,685 - pyiron_log - WARNING - LAMMPS (28 Mar 2023 - Update 1)\n",
      "Reading data file ...\n",
      "  orthogonal box = (0 0 0) to (4.0048391 6.9365848 44.334343)\n",
      "  1 by 1 by 1 MPI processor grid\n",
      "  reading atoms ...\n",
      "  84 atoms\n",
      "  read_data CPU = 0.000 seconds\n",
      "ERROR: KIM ModelCreate failed (src/KIM/pair_kim.cpp:828)\n",
      "Last command: pair_style kim MEAM_LAMMPS_KoJimLee_2012_FeP__MO_179420363944_000\n",
      "\n"
     ]
    },
    {
     "name": "stdout",
     "output_type": "stream",
     "text": [
      "The job S3_segGB_3_GB_P_55_d_4d91 was saved and received the ID: 1883\n",
      "The job S3_segGB_3_GB_P_56_d_5d72 was saved and received the ID: 1884\n"
     ]
    },
    {
     "name": "stderr",
     "output_type": "stream",
     "text": [
      "2023-08-13 18:08:50,879 - pyiron_log - WARNING - Job aborted\n",
      "2023-08-13 18:08:50,881 - pyiron_log - WARNING - LAMMPS (28 Mar 2023 - Update 1)\n",
      "Reading data file ...\n",
      "  orthogonal box = (0 0 0) to (4.0048391 6.9365848 44.334343)\n",
      "  1 by 1 by 1 MPI processor grid\n",
      "  reading atoms ...\n",
      "  84 atoms\n",
      "  read_data CPU = 0.000 seconds\n",
      "ERROR: KIM ModelCreate failed (src/KIM/pair_kim.cpp:828)\n",
      "Last command: pair_style kim MEAM_LAMMPS_KoJimLee_2012_FeP__MO_179420363944_000\n",
      "\n",
      "2023-08-13 18:08:51,059 - pyiron_log - WARNING - Job aborted\n",
      "2023-08-13 18:08:51,060 - pyiron_log - WARNING - LAMMPS (28 Mar 2023 - Update 1)\n",
      "Reading data file ...\n",
      "  orthogonal box = (0 0 0) to (4.0048391 6.9365848 44.334343)\n",
      "  1 by 1 by 1 MPI processor grid\n",
      "  reading atoms ...\n",
      "  84 atoms\n",
      "  read_data CPU = 0.000 seconds\n",
      "ERROR: KIM ModelCreate failed (src/KIM/pair_kim.cpp:828)\n",
      "Last command: pair_style kim MEAM_LAMMPS_KoJimLee_2012_FeP__MO_179420363944_000\n",
      "\n"
     ]
    },
    {
     "name": "stdout",
     "output_type": "stream",
     "text": [
      "The job S3_segGB_3_GB_P_57_d_5d72 was saved and received the ID: 1885\n"
     ]
    }
   ],
   "source": [
    "potentials_tested = job.list_potentials()\n",
    "E_seg_list = []\n",
    "for j, potential in enumerate(potentials_tested):\n",
    "    E_seg_list_potential = []\n",
    "    for i, struct in enumerate(structure_list):\n",
    "        try:\n",
    "            if i == 0:\n",
    "                E_pure_GB = run_lammps_calc(pymatgen_to_pyiron(gb_pmg), f\"S3_PureGB_{j}\", potential)\n",
    "                E_pure_SLAB = run_lammps_calc(pymatgen_to_pyiron(slab_pmg), f\"S3_PureSLAB_{j}\", potential)\n",
    "                E_SLAB_P = run_lammps_calc(pymatgen_to_pyiron(slab_pmg_P), f\"S3_segSLAB_{j}\", potential)\n",
    "            E_GB_P = run_lammps_calc(pymatgen_to_pyiron(struct), f\"S3_segGB_{j}_{structure_name_list[i]}\", potential)\n",
    "            # Formula for segregation energy is E_seg = E_seg_GB - E_pure_GB - (E_sol_SLAB - E_pure_SLAB)\n",
    "            E_seg = E_GB_P - E_pure_GB - (E_SLAB_P - E_pure_SLAB)\n",
    "            E_seg_list_potential.append(E_seg)\n",
    "        except:\n",
    "            E_seg_list_potential.append(np.nan)\n",
    "    E_seg_list.append(E_seg_list_potential)"
   ]
  },
  {
   "cell_type": "code",
   "execution_count": 17,
   "metadata": {},
   "outputs": [
    {
     "data": {
      "text/html": [
       "<div>\n",
       "<style scoped>\n",
       "    .dataframe tbody tr th:only-of-type {\n",
       "        vertical-align: middle;\n",
       "    }\n",
       "\n",
       "    .dataframe tbody tr th {\n",
       "        vertical-align: top;\n",
       "    }\n",
       "\n",
       "    .dataframe thead th {\n",
       "        text-align: right;\n",
       "    }\n",
       "</style>\n",
       "<table border=\"1\" class=\"dataframe\">\n",
       "  <thead>\n",
       "    <tr style=\"text-align: right;\">\n",
       "      <th></th>\n",
       "      <th>2004--Ackland-G-J--Fe-P--LAMMPS--ipr1</th>\n",
       "      <th>2012--Ko-W-S--Fe-P--LAMMPS--ipr1</th>\n",
       "    </tr>\n",
       "  </thead>\n",
       "  <tbody>\n",
       "    <tr>\n",
       "      <th>GB_P_28_d_5.72</th>\n",
       "      <td>0.003667</td>\n",
       "      <td>-1.107854</td>\n",
       "    </tr>\n",
       "    <tr>\n",
       "      <th>GB_P_29_d_5.72</th>\n",
       "      <td>0.003667</td>\n",
       "      <td>-1.107854</td>\n",
       "    </tr>\n",
       "    <tr>\n",
       "      <th>GB_P_30_d_4.91</th>\n",
       "      <td>0.009409</td>\n",
       "      <td>0.046456</td>\n",
       "    </tr>\n",
       "    <tr>\n",
       "      <th>GB_P_31_d_4.91</th>\n",
       "      <td>0.009409</td>\n",
       "      <td>0.046456</td>\n",
       "    </tr>\n",
       "    <tr>\n",
       "      <th>GB_P_32_d_4.09</th>\n",
       "      <td>0.032903</td>\n",
       "      <td>-0.007275</td>\n",
       "    </tr>\n",
       "    <tr>\n",
       "      <th>GB_P_33_d_4.09</th>\n",
       "      <td>0.032903</td>\n",
       "      <td>-0.007275</td>\n",
       "    </tr>\n",
       "    <tr>\n",
       "      <th>GB_P_34_d_3.27</th>\n",
       "      <td>-1.144830</td>\n",
       "      <td>-1.105626</td>\n",
       "    </tr>\n",
       "    <tr>\n",
       "      <th>GB_P_35_d_3.27</th>\n",
       "      <td>-1.144830</td>\n",
       "      <td>-1.105626</td>\n",
       "    </tr>\n",
       "    <tr>\n",
       "      <th>GB_P_36_d_2.45</th>\n",
       "      <td>0.180020</td>\n",
       "      <td>0.113790</td>\n",
       "    </tr>\n",
       "    <tr>\n",
       "      <th>GB_P_37_d_2.45</th>\n",
       "      <td>0.180020</td>\n",
       "      <td>0.113790</td>\n",
       "    </tr>\n",
       "    <tr>\n",
       "      <th>GB_P_38_d_1.63</th>\n",
       "      <td>-0.378476</td>\n",
       "      <td>-0.189858</td>\n",
       "    </tr>\n",
       "    <tr>\n",
       "      <th>GB_P_39_d_1.63</th>\n",
       "      <td>-0.378476</td>\n",
       "      <td>-0.189858</td>\n",
       "    </tr>\n",
       "    <tr>\n",
       "      <th>GB_P_40_d_0.82</th>\n",
       "      <td>-1.152108</td>\n",
       "      <td>-1.104952</td>\n",
       "    </tr>\n",
       "    <tr>\n",
       "      <th>GB_P_41_d_0.82</th>\n",
       "      <td>-1.152108</td>\n",
       "      <td>-1.104952</td>\n",
       "    </tr>\n",
       "    <tr>\n",
       "      <th>GB_P_42_d_0.00</th>\n",
       "      <td>0.165460</td>\n",
       "      <td>0.077128</td>\n",
       "    </tr>\n",
       "    <tr>\n",
       "      <th>GB_P_43_d_0.00</th>\n",
       "      <td>0.165460</td>\n",
       "      <td>0.077128</td>\n",
       "    </tr>\n",
       "    <tr>\n",
       "      <th>GB_P_44_d_0.82</th>\n",
       "      <td>-1.152077</td>\n",
       "      <td>-1.104842</td>\n",
       "    </tr>\n",
       "    <tr>\n",
       "      <th>GB_P_45_d_0.82</th>\n",
       "      <td>-1.152078</td>\n",
       "      <td>-1.104842</td>\n",
       "    </tr>\n",
       "    <tr>\n",
       "      <th>GB_P_46_d_1.63</th>\n",
       "      <td>-0.378394</td>\n",
       "      <td>-0.189240</td>\n",
       "    </tr>\n",
       "    <tr>\n",
       "      <th>GB_P_47_d_1.64</th>\n",
       "      <td>-0.378394</td>\n",
       "      <td>-0.189240</td>\n",
       "    </tr>\n",
       "    <tr>\n",
       "      <th>GB_P_48_d_2.45</th>\n",
       "      <td>0.179999</td>\n",
       "      <td>0.113546</td>\n",
       "    </tr>\n",
       "    <tr>\n",
       "      <th>GB_P_49_d_2.45</th>\n",
       "      <td>0.179999</td>\n",
       "      <td>0.113546</td>\n",
       "    </tr>\n",
       "    <tr>\n",
       "      <th>GB_P_50_d_3.27</th>\n",
       "      <td>-1.144728</td>\n",
       "      <td>-1.103879</td>\n",
       "    </tr>\n",
       "    <tr>\n",
       "      <th>GB_P_51_d_3.27</th>\n",
       "      <td>-1.144728</td>\n",
       "      <td>-1.103879</td>\n",
       "    </tr>\n",
       "    <tr>\n",
       "      <th>GB_P_52_d_4.09</th>\n",
       "      <td>0.032953</td>\n",
       "      <td>-0.006490</td>\n",
       "    </tr>\n",
       "    <tr>\n",
       "      <th>GB_P_53_d_4.09</th>\n",
       "      <td>0.032953</td>\n",
       "      <td>-0.006490</td>\n",
       "    </tr>\n",
       "    <tr>\n",
       "      <th>GB_P_54_d_4.91</th>\n",
       "      <td>0.009393</td>\n",
       "      <td>0.046186</td>\n",
       "    </tr>\n",
       "    <tr>\n",
       "      <th>GB_P_55_d_4.91</th>\n",
       "      <td>0.009393</td>\n",
       "      <td>0.046186</td>\n",
       "    </tr>\n",
       "    <tr>\n",
       "      <th>GB_P_56_d_5.72</th>\n",
       "      <td>0.003740</td>\n",
       "      <td>-1.100800</td>\n",
       "    </tr>\n",
       "    <tr>\n",
       "      <th>GB_P_57_d_5.72</th>\n",
       "      <td>0.003740</td>\n",
       "      <td>-1.100800</td>\n",
       "    </tr>\n",
       "  </tbody>\n",
       "</table>\n",
       "</div>"
      ],
      "text/plain": [
       "                2004--Ackland-G-J--Fe-P--LAMMPS--ipr1   \n",
       "GB_P_28_d_5.72                               0.003667  \\\n",
       "GB_P_29_d_5.72                               0.003667   \n",
       "GB_P_30_d_4.91                               0.009409   \n",
       "GB_P_31_d_4.91                               0.009409   \n",
       "GB_P_32_d_4.09                               0.032903   \n",
       "GB_P_33_d_4.09                               0.032903   \n",
       "GB_P_34_d_3.27                              -1.144830   \n",
       "GB_P_35_d_3.27                              -1.144830   \n",
       "GB_P_36_d_2.45                               0.180020   \n",
       "GB_P_37_d_2.45                               0.180020   \n",
       "GB_P_38_d_1.63                              -0.378476   \n",
       "GB_P_39_d_1.63                              -0.378476   \n",
       "GB_P_40_d_0.82                              -1.152108   \n",
       "GB_P_41_d_0.82                              -1.152108   \n",
       "GB_P_42_d_0.00                               0.165460   \n",
       "GB_P_43_d_0.00                               0.165460   \n",
       "GB_P_44_d_0.82                              -1.152077   \n",
       "GB_P_45_d_0.82                              -1.152078   \n",
       "GB_P_46_d_1.63                              -0.378394   \n",
       "GB_P_47_d_1.64                              -0.378394   \n",
       "GB_P_48_d_2.45                               0.179999   \n",
       "GB_P_49_d_2.45                               0.179999   \n",
       "GB_P_50_d_3.27                              -1.144728   \n",
       "GB_P_51_d_3.27                              -1.144728   \n",
       "GB_P_52_d_4.09                               0.032953   \n",
       "GB_P_53_d_4.09                               0.032953   \n",
       "GB_P_54_d_4.91                               0.009393   \n",
       "GB_P_55_d_4.91                               0.009393   \n",
       "GB_P_56_d_5.72                               0.003740   \n",
       "GB_P_57_d_5.72                               0.003740   \n",
       "\n",
       "                2012--Ko-W-S--Fe-P--LAMMPS--ipr1  \n",
       "GB_P_28_d_5.72                         -1.107854  \n",
       "GB_P_29_d_5.72                         -1.107854  \n",
       "GB_P_30_d_4.91                          0.046456  \n",
       "GB_P_31_d_4.91                          0.046456  \n",
       "GB_P_32_d_4.09                         -0.007275  \n",
       "GB_P_33_d_4.09                         -0.007275  \n",
       "GB_P_34_d_3.27                         -1.105626  \n",
       "GB_P_35_d_3.27                         -1.105626  \n",
       "GB_P_36_d_2.45                          0.113790  \n",
       "GB_P_37_d_2.45                          0.113790  \n",
       "GB_P_38_d_1.63                         -0.189858  \n",
       "GB_P_39_d_1.63                         -0.189858  \n",
       "GB_P_40_d_0.82                         -1.104952  \n",
       "GB_P_41_d_0.82                         -1.104952  \n",
       "GB_P_42_d_0.00                          0.077128  \n",
       "GB_P_43_d_0.00                          0.077128  \n",
       "GB_P_44_d_0.82                         -1.104842  \n",
       "GB_P_45_d_0.82                         -1.104842  \n",
       "GB_P_46_d_1.63                         -0.189240  \n",
       "GB_P_47_d_1.64                         -0.189240  \n",
       "GB_P_48_d_2.45                          0.113546  \n",
       "GB_P_49_d_2.45                          0.113546  \n",
       "GB_P_50_d_3.27                         -1.103879  \n",
       "GB_P_51_d_3.27                         -1.103879  \n",
       "GB_P_52_d_4.09                         -0.006490  \n",
       "GB_P_53_d_4.09                         -0.006490  \n",
       "GB_P_54_d_4.91                          0.046186  \n",
       "GB_P_55_d_4.91                          0.046186  \n",
       "GB_P_56_d_5.72                         -1.100800  \n",
       "GB_P_57_d_5.72                         -1.100800  "
      ]
     },
     "execution_count": 17,
     "metadata": {},
     "output_type": "execute_result"
    }
   ],
   "source": [
    "df = pd.DataFrame(np.transpose(E_seg_list), columns=potentials_tested, index=structure_name_list)\n",
    "df.dropna(axis=1)"
   ]
  },
  {
   "cell_type": "code",
   "execution_count": 16,
   "metadata": {},
   "outputs": [
    {
     "data": {
      "image/png": "[encoded data removed]",
      "text/plain": [
       "<Figure size 1000x600 with 1 Axes>"
      ]
     },
     "metadata": {},
     "output_type": "display_data"
    }
   ],
   "source": [
    "import matplotlib.pyplot as plt\n",
    "\n",
    "# Assuming you have df defined\n",
    "\n",
    "# Extract the data for the first two potentials\n",
    "potential_1 = df[potentials_tested[0]]\n",
    "potential_2 = df[potentials_tested[1]]\n",
    "\n",
    "# Plotting\n",
    "plt.figure(figsize=(10, 6))\n",
    "plt.plot(potential_1, label=str(potentials_tested[0]))\n",
    "plt.plot(potential_2, label=str(potentials_tested[1]))\n",
    "plt.axhline(y=0, color='black', linestyle='--', label='E_seg = 0')  # Horizontal reference line\n",
    "plt.xlabel(\"Structure Names\")\n",
    "plt.ylabel(\"Segregation Energy\")\n",
    "plt.title(\"Segregation Energies for First Two Potentials\")\n",
    "plt.xticks(rotation=90)\n",
    "plt.legend()\n",
    "plt.grid(True)  # Adding grid lines\n",
    "plt.tight_layout()\n",
    "plt.show()\n"
   ]
  },
  {
   "cell_type": "markdown",
   "metadata": {},
   "source": [
    "Construct a dataframe which contains the information about GB energy, and their errors with respect to a DFT computed value.\n",
    "\n",
    "The GB energy of 1.58 J/m^2 is from the value computed in this study:\n",
    "\n",
    "Mai, H.L., Cui, X.Y., Scheiber, D., Romaner, L. and Ringer, S.P., 2022. The segregation of transition metals to iron grain boundaries and their effects on cohesion. Acta materialia, 231, p.117902."
   ]
  },
  {
   "cell_type": "code",
   "execution_count": 13,
   "metadata": {},
   "outputs": [
    {
     "ename": "NameError",
     "evalue": "name 'GB_energy_list' is not defined",
     "output_type": "error",
     "traceback": [
      "\u001b[0;31m---------------------------------------------------------------------------\u001b[0m",
      "\u001b[0;31mNameError\u001b[0m                                 Traceback (most recent call last)",
      "Cell \u001b[0;32mIn[13], line 1\u001b[0m\n\u001b[0;32m----> 1\u001b[0m data \u001b[39m=\u001b[39m {\u001b[39m'\u001b[39m\u001b[39mpotential\u001b[39m\u001b[39m'\u001b[39m: potentials_tested, \u001b[39m'\u001b[39m\u001b[39mGB_energy\u001b[39m\u001b[39m'\u001b[39m: GB_energy_list}\n\u001b[1;32m      2\u001b[0m df \u001b[39m=\u001b[39m pd\u001b[39m.\u001b[39mDataFrame(data)\n\u001b[1;32m      4\u001b[0m GB_energy_DFT \u001b[39m=\u001b[39m \u001b[39m1.58\u001b[39m\n",
      "\u001b[0;31mNameError\u001b[0m: name 'GB_energy_list' is not defined"
     ]
    }
   ],
   "source": [
    "data = {'potential': potentials_tested, 'GB_energy': GB_energy_list}\n",
    "df = pd.DataFrame(data)\n",
    "\n",
    "GB_energy_DFT = 1.58\n",
    "df[\"err_DFT\"] = np.round(GB_energy_DFT - df[\"GB_energy\"], 3)\n",
    "df[\"rel_err_DFT\"] = np.round((GB_energy_DFT - df[\"GB_energy\"]) / GB_energy_DFT * 100, 0)\n",
    "df[\"GB_energy\"] = np.round(df.GB_energy.tolist(), 3)\n",
    "df = df.dropna(subset=\"GB_energy\")\n",
    "df"
   ]
  },
  {
   "cell_type": "markdown",
   "metadata": {},
   "source": [
    "Order the potentials by the minimum error wrt. DFT!\n",
    "\n",
    "Now we have a good idea of how to search for an empirical potential which best captures the GB energetics of a specific grain boundary.\n",
    "\n",
    "You can see that there are some potentials that are very, very accurate at predicting this specific GB energy. \n",
    "\n",
    "For a real study you should consider not just a single GB, but validate it across multiple GBs and ideally the specific phenomena you want to study."
   ]
  },
  {
   "cell_type": "code",
   "execution_count": null,
   "metadata": {},
   "outputs": [
    {
     "data": {
      "text/html": [
       "<div>\n",
       "<style scoped>\n",
       "    .dataframe tbody tr th:only-of-type {\n",
       "        vertical-align: middle;\n",
       "    }\n",
       "\n",
       "    .dataframe tbody tr th {\n",
       "        vertical-align: top;\n",
       "    }\n",
       "\n",
       "    .dataframe thead th {\n",
       "        text-align: right;\n",
       "    }\n",
       "</style>\n",
       "<table border=\"1\" class=\"dataframe\">\n",
       "  <thead>\n",
       "    <tr style=\"text-align: right;\">\n",
       "      <th></th>\n",
       "      <th>potential</th>\n",
       "      <th>GB_energy</th>\n",
       "      <th>err_DFT</th>\n",
       "      <th>rel_err_DFT</th>\n",
       "    </tr>\n",
       "  </thead>\n",
       "  <tbody>\n",
       "  </tbody>\n",
       "</table>\n",
       "</div>"
      ],
      "text/plain": [
       "Empty DataFrame\n",
       "Columns: [potential, GB_energy, err_DFT, rel_err_DFT]\n",
       "Index: []"
      ]
     },
     "execution_count": 14,
     "metadata": {},
     "output_type": "execute_result"
    }
   ],
   "source": [
    "df.sort_values(by=\"err_DFT\").head(10)"
   ]
  }
 ],
 "metadata": {
  "kernelspec": {
   "display_name": "Python 3",
   "language": "python",
   "name": "python3"
  },
  "language_info": {
   "codemirror_mode": {
    "name": "ipython",
    "version": 3
   },
   "file_extension": ".py",
   "mimetype": "text/x-python",
   "name": "python",
   "nbconvert_exporter": "python",
   "pygments_lexer": "ipython3",
   "version": "3.10.10"
  },
  "orig_nbformat": 4
 },
 "nbformat": 4,
 "nbformat_minor": 2
}
