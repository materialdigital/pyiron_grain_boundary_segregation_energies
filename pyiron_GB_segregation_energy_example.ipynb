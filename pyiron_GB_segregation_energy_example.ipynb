{
 "cells": [
  {
   "cell_type": "markdown",
   "metadata": {},
   "source": [
    "### A pyiron workflow to calculate a grain boundary energy using multiple potentials, and compare to literature DFT data.\n",
    "\n",
    "This notebook __doesn't__ work out of the box if you haven't configured LAMMPS for pyiron\n",
    "\n",
    "conda install -c conda-forge lammps \n",
    "\n",
    "OR\n",
    "\n",
    "mamba install -c conda-forge lammps\n",
    "\n",
    "In the python environment in which you are running pyiron\n",
    "\n",
    "WARNING: In practice/production you should configure a compiled LAMMPS executable that is optimised for your cluster!"
   ]
  },
  {
   "cell_type": "code",
   "execution_count": 1,
   "metadata": {},
   "outputs": [
    {
     "data": {
      "application/vnd.jupyter.widget-view+json": {
       "model_id": "35ae7c2fb7b84ff281092f03c121bb65",
       "version_major": 2,
       "version_minor": 0
      },
      "text/plain": []
     },
     "metadata": {},
     "output_type": "display_data"
    }
   ],
   "source": [
    "from pyiron.project import Project\n",
    "from pyiron.atomistics.structure.atoms import ase_to_pyiron, pymatgen_to_pyiron\n",
    "\n",
    "import numpy as np\n",
    "import pandas as pd\n",
    "import shutil\n",
    "\n",
    "from ase.lattice.cubic import BodyCenteredCubic as bcc\n",
    "from ase.build import stack\n",
    "\n",
    "from pymatgen.io.ase import AseAtomsAdaptor\n",
    "from pymatgen.core import Structure\n",
    "\n",
    "import matplotlib.pyplot as plt"
   ]
  },
  {
   "cell_type": "code",
   "execution_count": 2,
   "metadata": {},
   "outputs": [],
   "source": [
    "def add_vacuum(structure, vacuum):\n",
    "    \"\"\"\n",
    "    Adds padding to a slab or 2D material.\n",
    "\n",
    "    Args:\n",
    "        structure (Structure): Structure to add vacuum to\n",
    "        vacuum (float): Vacuum thickness to add in Angstroms\n",
    "    Returns:\n",
    "        Structure object with vacuum added.\n",
    "    \"\"\"\n",
    "    struct = structure.copy()\n",
    "    coords = [s.coords for s in struct.sites]\n",
    "    species = [s.specie for s in struct.sites]\n",
    "    lattice = struct.lattice.matrix\n",
    "    lattice.setflags(write=1)\n",
    "    lattice_C = lattice\n",
    "    lattice_C[2][2] += vacuum\n",
    "    struct = Structure(lattice_C, species, coords, coords_are_cartesian=True)\n",
    "    struct.translate_sites(range(len(struct)), [0,0,vacuum/2], frac_coords=False)\n",
    "    return struct"
   ]
  },
  {
   "cell_type": "code",
   "execution_count": 3,
   "metadata": {},
   "outputs": [],
   "source": [
    "pr = Project(\"GB_calcs\")"
   ]
  },
  {
   "cell_type": "markdown",
   "metadata": {},
   "source": [
    "Create the structure that we're going to use:\n",
    "a $\\Sigma 3 [1 \\bar{1}0](111)$ Fe GB"
   ]
  },
  {
   "cell_type": "code",
   "execution_count": 4,
   "metadata": {},
   "outputs": [],
   "source": [
    "surface1 = [1, 1, 1]\n",
    "surface2 = [1, 1, -1]\n",
    "rotation_axis = [1, -1, 0]\n",
    "element = \"Fe\"\n",
    "lc = 2.8318488966083\n",
    "GB_name = \"S3-RA110-S1-11\"\n",
    "\n",
    "# The minimum required length of the cell.\n",
    "req_length = 30\n",
    "\n",
    "v1 = list(-np.cross(rotation_axis,surface1))\n",
    "v2 = list(-np.cross(rotation_axis,surface2)) \n",
    "\n",
    "length = 0\n",
    "n = 0\n",
    "while length < req_length:\n",
    "    n += 1\n",
    "    \n",
    "    slab1 = bcc(symbol=element, latticeconstant=lc,directions=[rotation_axis,v1,surface1], size=[1,1,n])\n",
    "    slab2 = bcc(symbol=element, latticeconstant=lc,directions=[rotation_axis,v2,surface2], size=[1,1,n])\n",
    "\n",
    "    gb = stack(slab1, slab2)\n",
    "    slab = stack(slab1, slab1)\n",
    "    length = gb.cell[-1,-1]\n",
    "    \n",
    "    # Rattle the gb structure using rattle in ASE to perturb symmetry\n",
    "    gb.rattle()\n",
    "    slab.rattle()\n",
    "    \n",
    "    slab_pmg = add_vacuum(AseAtomsAdaptor().get_structure(slab).copy(), 10)\n",
    "    gb_pmg = add_vacuum(AseAtomsAdaptor().get_structure(gb).copy(), 10)\n",
    "\n",
    "gb_pmg.sort(lambda x: x.frac_coords[-1])\n",
    "slab_pmg.sort(lambda x: x.frac_coords[-1])"
   ]
  },
  {
   "cell_type": "markdown",
   "metadata": {},
   "source": [
    "For the purposes of segregation, we need to create a set of GBs with a segregant (here it is P) substituted at various sites near the GB."
   ]
  },
  {
   "cell_type": "markdown",
   "metadata": {},
   "source": [
    "Create the slab structure for a reference, in this case subsitute 1 P atom in to the slab bcc cell for a reference chemical potential "
   ]
  },
  {
   "cell_type": "code",
   "execution_count": 5,
   "metadata": {},
   "outputs": [],
   "source": [
    "slab_pmg_P = slab_pmg.copy()\n",
    "slab_pmg_P[40] = \"P\""
   ]
  },
  {
   "cell_type": "code",
   "execution_count": 6,
   "metadata": {},
   "outputs": [
    {
     "data": {
      "text/plain": [
       "22.16717158899204"
      ]
     },
     "execution_count": 6,
     "metadata": {},
     "output_type": "execute_result"
    }
   ],
   "source": [
    "mid_point = gb_pmg.lattice.c / 2\n",
    "mid_point"
   ]
  },
  {
   "cell_type": "code",
   "execution_count": 7,
   "metadata": {},
   "outputs": [],
   "source": [
    "# We just need to set some arbitrary threshold past which we don't compute the segregation energy of that site\n",
    "# In practice, it is safe to set this to be less than 6 angstrom away from the GB\n",
    "threshold = 6\n",
    "structure_list = []\n",
    "structure_name_list = []\n",
    "structure_dist_list = []\n",
    "for i, site in enumerate(gb_pmg):\n",
    "    GB_seg_struct = gb_pmg.copy()\n",
    "    dist_GB = abs(site.coords[-1] - mid_point)\n",
    "    if dist_GB < 6:\n",
    "        GB_seg_struct[i] = \"P\"\n",
    "        structure_name_list.append(f\"GB_P_%s_d_%.2f\" % (int(i), dist_GB))\n",
    "        structure_list.append(GB_seg_struct)\n",
    "        structure_dist_list.append(dist_GB)"
   ]
  },
  {
   "cell_type": "markdown",
   "metadata": {},
   "source": [
    "Create the pyiron job, assign the structure to the job."
   ]
  },
  {
   "cell_type": "code",
   "execution_count": 8,
   "metadata": {},
   "outputs": [],
   "source": [
    "job = pr.create_job(job_type=pr.job_type.Lammps, job_name='Fe_S3_GB')\n",
    "\n",
    "job.structure = pymatgen_to_pyiron(structure_list[0])"
   ]
  },
  {
   "cell_type": "markdown",
   "metadata": {},
   "source": [
    "We need to see the potentials, pyiron has an inbuilt potential database\n",
    "\n",
    "It automatically finds the applicable potentials given the structure provided."
   ]
  },
  {
   "cell_type": "code",
   "execution_count": 9,
   "metadata": {},
   "outputs": [
    {
     "data": {
      "text/plain": [
       "['2004--Ackland-G-J--Fe-P--LAMMPS--ipr1',\n",
       " '2012--Ko-W-S--Fe-P--LAMMPS--ipr1',\n",
       " 'EAM_Dynamo_AcklandMendelevSrolovitz_2004_FeP__MO_884343146310_005',\n",
       " 'MEAM_LAMMPS_KoJimLee_2012_FeP__MO_179420363944_000']"
      ]
     },
     "execution_count": 9,
     "metadata": {},
     "output_type": "execute_result"
    }
   ],
   "source": [
    "job.list_potentials()[:10]"
   ]
  },
  {
   "cell_type": "code",
   "execution_count": 10,
   "metadata": {},
   "outputs": [],
   "source": [
    "def run_lammps_calc(structure, job_name, potential):\n",
    "    job = pr.create_job(job_type=pr.job_type.Lammps, job_name=job_name)\n",
    "    job.structure = structure\n",
    "    job.potential = potential\n",
    "    job.calc_minimize(pressure=None,\n",
    "                        max_iter=10000)\n",
    "    job.run(delete_existing_job=True)\n",
    "    return job['output/generic/energy_tot'][-1]"
   ]
  },
  {
   "cell_type": "code",
   "execution_count": 11,
   "metadata": {},
   "outputs": [
    {
     "name": "stdout",
     "output_type": "stream",
     "text": [
      "The job S3_PureGB_0 was saved and received the ID: 3310\n",
      "The job S3_PureSLAB_0 was saved and received the ID: 3311\n",
      "The job S3_segSLAB_0 was saved and received the ID: 3312\n",
      "The job S3_segGB_0_GB_P_28_d_5d72 was saved and received the ID: 3313\n",
      "The job S3_segGB_0_GB_P_29_d_5d72 was saved and received the ID: 3314\n",
      "The job S3_segGB_0_GB_P_30_d_4d91 was saved and received the ID: 3315\n",
      "The job S3_segGB_0_GB_P_31_d_4d91 was saved and received the ID: 3316\n",
      "The job S3_segGB_0_GB_P_32_d_4d09 was saved and received the ID: 3317\n",
      "The job S3_segGB_0_GB_P_33_d_4d09 was saved and received the ID: 3318\n",
      "The job S3_segGB_0_GB_P_34_d_3d27 was saved and received the ID: 3319\n",
      "The job S3_segGB_0_GB_P_35_d_3d27 was saved and received the ID: 3320\n",
      "The job S3_segGB_0_GB_P_36_d_2d45 was saved and received the ID: 3321\n",
      "The job S3_segGB_0_GB_P_37_d_2d45 was saved and received the ID: 3322\n",
      "The job S3_segGB_0_GB_P_38_d_1d63 was saved and received the ID: 3323\n",
      "The job S3_segGB_0_GB_P_39_d_1d63 was saved and received the ID: 3324\n",
      "The job S3_segGB_0_GB_P_40_d_0d82 was saved and received the ID: 3325\n",
      "The job S3_segGB_0_GB_P_41_d_0d82 was saved and received the ID: 3326\n",
      "The job S3_segGB_0_GB_P_42_d_0d00 was saved and received the ID: 3327\n",
      "The job S3_segGB_0_GB_P_43_d_0d00 was saved and received the ID: 3328\n",
      "The job S3_segGB_0_GB_P_44_d_0d82 was saved and received the ID: 3329\n",
      "The job S3_segGB_0_GB_P_45_d_0d82 was saved and received the ID: 3330\n",
      "The job S3_segGB_0_GB_P_46_d_1d63 was saved and received the ID: 3331\n",
      "The job S3_segGB_0_GB_P_47_d_1d64 was saved and received the ID: 3332\n",
      "The job S3_segGB_0_GB_P_48_d_2d45 was saved and received the ID: 3333\n",
      "The job S3_segGB_0_GB_P_49_d_2d45 was saved and received the ID: 3334\n",
      "The job S3_segGB_0_GB_P_50_d_3d27 was saved and received the ID: 3335\n",
      "The job S3_segGB_0_GB_P_51_d_3d27 was saved and received the ID: 3336\n",
      "The job S3_segGB_0_GB_P_52_d_4d09 was saved and received the ID: 3337\n",
      "The job S3_segGB_0_GB_P_53_d_4d09 was saved and received the ID: 3338\n",
      "The job S3_segGB_0_GB_P_54_d_4d91 was saved and received the ID: 3339\n",
      "The job S3_segGB_0_GB_P_55_d_4d91 was saved and received the ID: 3340\n",
      "The job S3_segGB_0_GB_P_56_d_5d72 was saved and received the ID: 3341\n",
      "The job S3_segGB_0_GB_P_57_d_5d72 was saved and received the ID: 3342\n",
      "The job S3_PureGB_1 was saved and received the ID: 3343\n",
      "The job S3_PureSLAB_1 was saved and received the ID: 3344\n",
      "The job S3_segSLAB_1 was saved and received the ID: 3345\n",
      "The job S3_segGB_1_GB_P_28_d_5d72 was saved and received the ID: 3346\n",
      "The job S3_segGB_1_GB_P_29_d_5d72 was saved and received the ID: 3347\n",
      "The job S3_segGB_1_GB_P_30_d_4d91 was saved and received the ID: 3348\n",
      "The job S3_segGB_1_GB_P_31_d_4d91 was saved and received the ID: 3349\n",
      "The job S3_segGB_1_GB_P_32_d_4d09 was saved and received the ID: 3350\n",
      "The job S3_segGB_1_GB_P_33_d_4d09 was saved and received the ID: 3351\n",
      "The job S3_segGB_1_GB_P_34_d_3d27 was saved and received the ID: 3352\n",
      "The job S3_segGB_1_GB_P_35_d_3d27 was saved and received the ID: 3353\n",
      "The job S3_segGB_1_GB_P_36_d_2d45 was saved and received the ID: 3354\n",
      "The job S3_segGB_1_GB_P_37_d_2d45 was saved and received the ID: 3355\n",
      "The job S3_segGB_1_GB_P_38_d_1d63 was saved and received the ID: 3356\n",
      "The job S3_segGB_1_GB_P_39_d_1d63 was saved and received the ID: 3357\n",
      "The job S3_segGB_1_GB_P_40_d_0d82 was saved and received the ID: 3358\n",
      "The job S3_segGB_1_GB_P_41_d_0d82 was saved and received the ID: 3359\n",
      "The job S3_segGB_1_GB_P_42_d_0d00 was saved and received the ID: 3360\n",
      "The job S3_segGB_1_GB_P_43_d_0d00 was saved and received the ID: 3361\n",
      "The job S3_segGB_1_GB_P_44_d_0d82 was saved and received the ID: 3362\n",
      "The job S3_segGB_1_GB_P_45_d_0d82 was saved and received the ID: 3363\n",
      "The job S3_segGB_1_GB_P_46_d_1d63 was saved and received the ID: 3364\n",
      "The job S3_segGB_1_GB_P_47_d_1d64 was saved and received the ID: 3365\n",
      "The job S3_segGB_1_GB_P_48_d_2d45 was saved and received the ID: 3366\n",
      "The job S3_segGB_1_GB_P_49_d_2d45 was saved and received the ID: 3367\n",
      "The job S3_segGB_1_GB_P_50_d_3d27 was saved and received the ID: 3368\n",
      "The job S3_segGB_1_GB_P_51_d_3d27 was saved and received the ID: 3369\n",
      "The job S3_segGB_1_GB_P_52_d_4d09 was saved and received the ID: 3370\n",
      "The job S3_segGB_1_GB_P_53_d_4d09 was saved and received the ID: 3371\n",
      "The job S3_segGB_1_GB_P_54_d_4d91 was saved and received the ID: 3372\n",
      "The job S3_segGB_1_GB_P_55_d_4d91 was saved and received the ID: 3373\n",
      "The job S3_segGB_1_GB_P_56_d_5d72 was saved and received the ID: 3374\n",
      "The job S3_segGB_1_GB_P_57_d_5d72 was saved and received the ID: 3375\n"
     ]
    },
    {
     "name": "stderr",
     "output_type": "stream",
     "text": [
      "2023-09-18 00:51:16,878 - pyiron_log - WARNING - Job aborted - please remove it and run again! S3_PureGB_2\n",
      "2023-09-18 00:51:17,138 - pyiron_log - WARNING - Job aborted\n",
      "2023-09-18 00:51:17,139 - pyiron_log - WARNING - LAMMPS (23 Jun 2022 - Update 1)\n",
      "Reading data file ...\n",
      "  orthogonal box = (0 0 0) to (4.0048391 6.9365848 44.334343)\n",
      "  1 by 1 by 1 MPI processor grid\n",
      "  reading atoms ...\n",
      "  84 atoms\n",
      "  read_data CPU = 0.000 seconds\n",
      "ERROR: KIM ModelCreate failed (src/KIM/pair_kim.cpp:843)\n",
      "Last command: pair_style kim EAM_Dynamo_AcklandMendelevSrolovitz_2004_FeP__MO_884343146310_005\n",
      "\n",
      "2023-09-18 00:51:17,157 - pyiron_log - WARNING - Job aborted - please remove it and run again! S3_segGB_2_GB_P_29_d_5d72\n"
     ]
    },
    {
     "name": "stdout",
     "output_type": "stream",
     "text": [
      "The job S3_PureGB_2 was saved and received the ID: 3376\n"
     ]
    },
    {
     "name": "stderr",
     "output_type": "stream",
     "text": [
      "2023-09-18 00:51:17,434 - pyiron_log - WARNING - Job aborted\n",
      "2023-09-18 00:51:17,436 - pyiron_log - WARNING - LAMMPS (23 Jun 2022 - Update 1)\n",
      "Reading data file ...\n",
      "  orthogonal box = (0 0 0) to (4.0048391 6.9365848 44.334343)\n",
      "  1 by 1 by 1 MPI processor grid\n",
      "  reading atoms ...\n",
      "  84 atoms\n",
      "  read_data CPU = 0.000 seconds\n",
      "ERROR: KIM ModelCreate failed (src/KIM/pair_kim.cpp:843)\n",
      "Last command: pair_style kim EAM_Dynamo_AcklandMendelevSrolovitz_2004_FeP__MO_884343146310_005\n",
      "\n",
      "2023-09-18 00:51:17,453 - pyiron_log - WARNING - Job aborted - please remove it and run again! S3_segGB_2_GB_P_30_d_4d91\n"
     ]
    },
    {
     "name": "stdout",
     "output_type": "stream",
     "text": [
      "The job S3_segGB_2_GB_P_29_d_5d72 was saved and received the ID: 3377\n"
     ]
    },
    {
     "name": "stderr",
     "output_type": "stream",
     "text": [
      "2023-09-18 00:51:17,731 - pyiron_log - WARNING - Job aborted\n",
      "2023-09-18 00:51:17,732 - pyiron_log - WARNING - LAMMPS (23 Jun 2022 - Update 1)\n",
      "Reading data file ...\n",
      "  orthogonal box = (0 0 0) to (4.0048391 6.9365848 44.334343)\n",
      "  1 by 1 by 1 MPI processor grid\n",
      "  reading atoms ...\n",
      "  84 atoms\n",
      "  read_data CPU = 0.000 seconds\n",
      "ERROR: KIM ModelCreate failed (src/KIM/pair_kim.cpp:843)\n",
      "Last command: pair_style kim EAM_Dynamo_AcklandMendelevSrolovitz_2004_FeP__MO_884343146310_005\n",
      "\n",
      "2023-09-18 00:51:17,748 - pyiron_log - WARNING - Job aborted - please remove it and run again! S3_segGB_2_GB_P_31_d_4d91\n"
     ]
    },
    {
     "name": "stdout",
     "output_type": "stream",
     "text": [
      "The job S3_segGB_2_GB_P_30_d_4d91 was saved and received the ID: 3378\n"
     ]
    },
    {
     "name": "stderr",
     "output_type": "stream",
     "text": [
      "2023-09-18 00:51:18,012 - pyiron_log - WARNING - Job aborted\n",
      "2023-09-18 00:51:18,014 - pyiron_log - WARNING - LAMMPS (23 Jun 2022 - Update 1)\n",
      "Reading data file ...\n",
      "  orthogonal box = (0 0 0) to (4.0048391 6.9365848 44.334343)\n",
      "  1 by 1 by 1 MPI processor grid\n",
      "  reading atoms ...\n",
      "  84 atoms\n",
      "  read_data CPU = 0.001 seconds\n",
      "ERROR: KIM ModelCreate failed (src/KIM/pair_kim.cpp:843)\n",
      "Last command: pair_style kim EAM_Dynamo_AcklandMendelevSrolovitz_2004_FeP__MO_884343146310_005\n",
      "\n",
      "2023-09-18 00:51:18,028 - pyiron_log - WARNING - Job aborted - please remove it and run again! S3_segGB_2_GB_P_32_d_4d09\n"
     ]
    },
    {
     "name": "stdout",
     "output_type": "stream",
     "text": [
      "The job S3_segGB_2_GB_P_31_d_4d91 was saved and received the ID: 3379\n"
     ]
    },
    {
     "name": "stderr",
     "output_type": "stream",
     "text": [
      "2023-09-18 00:51:18,273 - pyiron_log - WARNING - Job aborted\n",
      "2023-09-18 00:51:18,274 - pyiron_log - WARNING - LAMMPS (23 Jun 2022 - Update 1)\n",
      "Reading data file ...\n",
      "  orthogonal box = (0 0 0) to (4.0048391 6.9365848 44.334343)\n",
      "  1 by 1 by 1 MPI processor grid\n",
      "  reading atoms ...\n",
      "  84 atoms\n",
      "  read_data CPU = 0.000 seconds\n",
      "ERROR: KIM ModelCreate failed (src/KIM/pair_kim.cpp:843)\n",
      "Last command: pair_style kim EAM_Dynamo_AcklandMendelevSrolovitz_2004_FeP__MO_884343146310_005\n",
      "\n",
      "2023-09-18 00:51:18,291 - pyiron_log - WARNING - Job aborted - please remove it and run again! S3_segGB_2_GB_P_33_d_4d09\n"
     ]
    },
    {
     "name": "stdout",
     "output_type": "stream",
     "text": [
      "The job S3_segGB_2_GB_P_32_d_4d09 was saved and received the ID: 3380\n"
     ]
    },
    {
     "name": "stderr",
     "output_type": "stream",
     "text": [
      "2023-09-18 00:51:18,575 - pyiron_log - WARNING - Job aborted\n",
      "2023-09-18 00:51:18,576 - pyiron_log - WARNING - LAMMPS (23 Jun 2022 - Update 1)\n",
      "Reading data file ...\n",
      "  orthogonal box = (0 0 0) to (4.0048391 6.9365848 44.334343)\n",
      "  1 by 1 by 1 MPI processor grid\n",
      "  reading atoms ...\n",
      "  84 atoms\n",
      "  read_data CPU = 0.000 seconds\n",
      "ERROR: KIM ModelCreate failed (src/KIM/pair_kim.cpp:843)\n",
      "Last command: pair_style kim EAM_Dynamo_AcklandMendelevSrolovitz_2004_FeP__MO_884343146310_005\n",
      "\n",
      "2023-09-18 00:51:18,591 - pyiron_log - WARNING - Job aborted - please remove it and run again! S3_segGB_2_GB_P_34_d_3d27\n"
     ]
    },
    {
     "name": "stdout",
     "output_type": "stream",
     "text": [
      "The job S3_segGB_2_GB_P_33_d_4d09 was saved and received the ID: 3381\n"
     ]
    },
    {
     "name": "stderr",
     "output_type": "stream",
     "text": [
      "2023-09-18 00:51:18,867 - pyiron_log - WARNING - Job aborted\n",
      "2023-09-18 00:51:18,868 - pyiron_log - WARNING - LAMMPS (23 Jun 2022 - Update 1)\n",
      "Reading data file ...\n",
      "  orthogonal box = (0 0 0) to (4.0048391 6.9365848 44.334343)\n",
      "  1 by 1 by 1 MPI processor grid\n",
      "  reading atoms ...\n",
      "  84 atoms\n",
      "  read_data CPU = 0.000 seconds\n",
      "ERROR: KIM ModelCreate failed (src/KIM/pair_kim.cpp:843)\n",
      "Last command: pair_style kim EAM_Dynamo_AcklandMendelevSrolovitz_2004_FeP__MO_884343146310_005\n",
      "\n",
      "2023-09-18 00:51:18,884 - pyiron_log - WARNING - Job aborted - please remove it and run again! S3_segGB_2_GB_P_35_d_3d27\n"
     ]
    },
    {
     "name": "stdout",
     "output_type": "stream",
     "text": [
      "The job S3_segGB_2_GB_P_34_d_3d27 was saved and received the ID: 3382\n"
     ]
    },
    {
     "name": "stderr",
     "output_type": "stream",
     "text": [
      "2023-09-18 00:51:19,136 - pyiron_log - WARNING - Job aborted\n",
      "2023-09-18 00:51:19,137 - pyiron_log - WARNING - LAMMPS (23 Jun 2022 - Update 1)\n",
      "Reading data file ...\n",
      "  orthogonal box = (0 0 0) to (4.0048391 6.9365848 44.334343)\n",
      "  1 by 1 by 1 MPI processor grid\n",
      "  reading atoms ...\n",
      "  84 atoms\n",
      "  read_data CPU = 0.000 seconds\n",
      "ERROR: KIM ModelCreate failed (src/KIM/pair_kim.cpp:843)\n",
      "Last command: pair_style kim EAM_Dynamo_AcklandMendelevSrolovitz_2004_FeP__MO_884343146310_005\n",
      "\n",
      "2023-09-18 00:51:19,153 - pyiron_log - WARNING - Job aborted - please remove it and run again! S3_segGB_2_GB_P_36_d_2d45\n"
     ]
    },
    {
     "name": "stdout",
     "output_type": "stream",
     "text": [
      "The job S3_segGB_2_GB_P_35_d_3d27 was saved and received the ID: 3383\n"
     ]
    },
    {
     "name": "stderr",
     "output_type": "stream",
     "text": [
      "2023-09-18 00:51:19,415 - pyiron_log - WARNING - Job aborted\n",
      "2023-09-18 00:51:19,415 - pyiron_log - WARNING - LAMMPS (23 Jun 2022 - Update 1)\n",
      "Reading data file ...\n",
      "  orthogonal box = (0 0 0) to (4.0048391 6.9365848 44.334343)\n",
      "  1 by 1 by 1 MPI processor grid\n",
      "  reading atoms ...\n",
      "  84 atoms\n",
      "  read_data CPU = 0.000 seconds\n",
      "ERROR: KIM ModelCreate failed (src/KIM/pair_kim.cpp:843)\n",
      "Last command: pair_style kim EAM_Dynamo_AcklandMendelevSrolovitz_2004_FeP__MO_884343146310_005\n",
      "\n",
      "2023-09-18 00:51:19,430 - pyiron_log - WARNING - Job aborted - please remove it and run again! S3_segGB_2_GB_P_37_d_2d45\n"
     ]
    },
    {
     "name": "stdout",
     "output_type": "stream",
     "text": [
      "The job S3_segGB_2_GB_P_36_d_2d45 was saved and received the ID: 3384\n"
     ]
    },
    {
     "name": "stderr",
     "output_type": "stream",
     "text": [
      "2023-09-18 00:51:19,689 - pyiron_log - WARNING - Job aborted\n",
      "2023-09-18 00:51:19,690 - pyiron_log - WARNING - LAMMPS (23 Jun 2022 - Update 1)\n",
      "Reading data file ...\n",
      "  orthogonal box = (0 0 0) to (4.0048391 6.9365848 44.334343)\n",
      "  1 by 1 by 1 MPI processor grid\n",
      "  reading atoms ...\n",
      "  84 atoms\n",
      "  read_data CPU = 0.000 seconds\n",
      "ERROR: KIM ModelCreate failed (src/KIM/pair_kim.cpp:843)\n",
      "Last command: pair_style kim EAM_Dynamo_AcklandMendelevSrolovitz_2004_FeP__MO_884343146310_005\n",
      "\n",
      "2023-09-18 00:51:19,705 - pyiron_log - WARNING - Job aborted - please remove it and run again! S3_segGB_2_GB_P_38_d_1d63\n"
     ]
    },
    {
     "name": "stdout",
     "output_type": "stream",
     "text": [
      "The job S3_segGB_2_GB_P_37_d_2d45 was saved and received the ID: 3385\n"
     ]
    },
    {
     "name": "stderr",
     "output_type": "stream",
     "text": [
      "2023-09-18 00:51:19,957 - pyiron_log - WARNING - Job aborted\n",
      "2023-09-18 00:51:19,958 - pyiron_log - WARNING - LAMMPS (23 Jun 2022 - Update 1)\n",
      "Reading data file ...\n",
      "  orthogonal box = (0 0 0) to (4.0048391 6.9365848 44.334343)\n",
      "  1 by 1 by 1 MPI processor grid\n",
      "  reading atoms ...\n",
      "  84 atoms\n",
      "  read_data CPU = 0.000 seconds\n",
      "ERROR: KIM ModelCreate failed (src/KIM/pair_kim.cpp:843)\n",
      "Last command: pair_style kim EAM_Dynamo_AcklandMendelevSrolovitz_2004_FeP__MO_884343146310_005\n",
      "\n",
      "2023-09-18 00:51:19,975 - pyiron_log - WARNING - Job aborted - please remove it and run again! S3_segGB_2_GB_P_39_d_1d63\n"
     ]
    },
    {
     "name": "stdout",
     "output_type": "stream",
     "text": [
      "The job S3_segGB_2_GB_P_38_d_1d63 was saved and received the ID: 3386\n"
     ]
    },
    {
     "name": "stderr",
     "output_type": "stream",
     "text": [
      "2023-09-18 00:51:20,231 - pyiron_log - WARNING - Job aborted\n",
      "2023-09-18 00:51:20,232 - pyiron_log - WARNING - LAMMPS (23 Jun 2022 - Update 1)\n",
      "Reading data file ...\n",
      "  orthogonal box = (0 0 0) to (4.0048391 6.9365848 44.334343)\n",
      "  1 by 1 by 1 MPI processor grid\n",
      "  reading atoms ...\n",
      "  84 atoms\n",
      "  read_data CPU = 0.000 seconds\n",
      "ERROR: KIM ModelCreate failed (src/KIM/pair_kim.cpp:843)\n",
      "Last command: pair_style kim EAM_Dynamo_AcklandMendelevSrolovitz_2004_FeP__MO_884343146310_005\n",
      "\n",
      "2023-09-18 00:51:20,249 - pyiron_log - WARNING - Job aborted - please remove it and run again! S3_segGB_2_GB_P_40_d_0d82\n"
     ]
    },
    {
     "name": "stdout",
     "output_type": "stream",
     "text": [
      "The job S3_segGB_2_GB_P_39_d_1d63 was saved and received the ID: 3387\n"
     ]
    },
    {
     "name": "stderr",
     "output_type": "stream",
     "text": [
      "2023-09-18 00:51:20,528 - pyiron_log - WARNING - Job aborted\n",
      "2023-09-18 00:51:20,529 - pyiron_log - WARNING - LAMMPS (23 Jun 2022 - Update 1)\n",
      "Reading data file ...\n",
      "  orthogonal box = (0 0 0) to (4.0048391 6.9365848 44.334343)\n",
      "  1 by 1 by 1 MPI processor grid\n",
      "  reading atoms ...\n",
      "  84 atoms\n",
      "  read_data CPU = 0.000 seconds\n",
      "ERROR: KIM ModelCreate failed (src/KIM/pair_kim.cpp:843)\n",
      "Last command: pair_style kim EAM_Dynamo_AcklandMendelevSrolovitz_2004_FeP__MO_884343146310_005\n",
      "\n",
      "2023-09-18 00:51:20,544 - pyiron_log - WARNING - Job aborted - please remove it and run again! S3_segGB_2_GB_P_41_d_0d82\n"
     ]
    },
    {
     "name": "stdout",
     "output_type": "stream",
     "text": [
      "The job S3_segGB_2_GB_P_40_d_0d82 was saved and received the ID: 3388\n"
     ]
    },
    {
     "name": "stderr",
     "output_type": "stream",
     "text": [
      "2023-09-18 00:51:20,808 - pyiron_log - WARNING - Job aborted\n",
      "2023-09-18 00:51:20,809 - pyiron_log - WARNING - LAMMPS (23 Jun 2022 - Update 1)\n",
      "Reading data file ...\n",
      "  orthogonal box = (0 0 0) to (4.0048391 6.9365848 44.334343)\n",
      "  1 by 1 by 1 MPI processor grid\n",
      "  reading atoms ...\n",
      "  84 atoms\n",
      "  read_data CPU = 0.000 seconds\n",
      "ERROR: KIM ModelCreate failed (src/KIM/pair_kim.cpp:843)\n",
      "Last command: pair_style kim EAM_Dynamo_AcklandMendelevSrolovitz_2004_FeP__MO_884343146310_005\n",
      "\n",
      "2023-09-18 00:51:20,827 - pyiron_log - WARNING - Job aborted - please remove it and run again! S3_segGB_2_GB_P_42_d_0d00\n"
     ]
    },
    {
     "name": "stdout",
     "output_type": "stream",
     "text": [
      "The job S3_segGB_2_GB_P_41_d_0d82 was saved and received the ID: 3389\n"
     ]
    },
    {
     "name": "stderr",
     "output_type": "stream",
     "text": [
      "2023-09-18 00:51:21,118 - pyiron_log - WARNING - Job aborted\n",
      "2023-09-18 00:51:21,119 - pyiron_log - WARNING - LAMMPS (23 Jun 2022 - Update 1)\n",
      "Reading data file ...\n",
      "  orthogonal box = (0 0 0) to (4.0048391 6.9365848 44.334343)\n",
      "  1 by 1 by 1 MPI processor grid\n",
      "  reading atoms ...\n",
      "  84 atoms\n",
      "  read_data CPU = 0.000 seconds\n",
      "ERROR: KIM ModelCreate failed (src/KIM/pair_kim.cpp:843)\n",
      "Last command: pair_style kim EAM_Dynamo_AcklandMendelevSrolovitz_2004_FeP__MO_884343146310_005\n",
      "\n",
      "2023-09-18 00:51:21,135 - pyiron_log - WARNING - Job aborted - please remove it and run again! S3_segGB_2_GB_P_43_d_0d00\n"
     ]
    },
    {
     "name": "stdout",
     "output_type": "stream",
     "text": [
      "The job S3_segGB_2_GB_P_42_d_0d00 was saved and received the ID: 3390\n"
     ]
    },
    {
     "name": "stderr",
     "output_type": "stream",
     "text": [
      "2023-09-18 00:51:21,374 - pyiron_log - WARNING - Job aborted\n",
      "2023-09-18 00:51:21,375 - pyiron_log - WARNING - LAMMPS (23 Jun 2022 - Update 1)\n",
      "Reading data file ...\n",
      "  orthogonal box = (0 0 0) to (4.0048391 6.9365848 44.334343)\n",
      "  1 by 1 by 1 MPI processor grid\n",
      "  reading atoms ...\n",
      "  84 atoms\n",
      "  read_data CPU = 0.000 seconds\n",
      "ERROR: KIM ModelCreate failed (src/KIM/pair_kim.cpp:843)\n",
      "Last command: pair_style kim EAM_Dynamo_AcklandMendelevSrolovitz_2004_FeP__MO_884343146310_005\n",
      "\n",
      "2023-09-18 00:51:21,392 - pyiron_log - WARNING - Job aborted - please remove it and run again! S3_segGB_2_GB_P_44_d_0d82\n"
     ]
    },
    {
     "name": "stdout",
     "output_type": "stream",
     "text": [
      "The job S3_segGB_2_GB_P_43_d_0d00 was saved and received the ID: 3391\n"
     ]
    },
    {
     "name": "stderr",
     "output_type": "stream",
     "text": [
      "2023-09-18 00:51:21,664 - pyiron_log - WARNING - Job aborted\n",
      "2023-09-18 00:51:21,665 - pyiron_log - WARNING - LAMMPS (23 Jun 2022 - Update 1)\n",
      "Reading data file ...\n",
      "  orthogonal box = (0 0 0) to (4.0048391 6.9365848 44.334343)\n",
      "  1 by 1 by 1 MPI processor grid\n",
      "  reading atoms ...\n",
      "  84 atoms\n",
      "  read_data CPU = 0.001 seconds\n",
      "ERROR: KIM ModelCreate failed (src/KIM/pair_kim.cpp:843)\n",
      "Last command: pair_style kim EAM_Dynamo_AcklandMendelevSrolovitz_2004_FeP__MO_884343146310_005\n",
      "\n",
      "2023-09-18 00:51:21,681 - pyiron_log - WARNING - Job aborted - please remove it and run again! S3_segGB_2_GB_P_45_d_0d82\n"
     ]
    },
    {
     "name": "stdout",
     "output_type": "stream",
     "text": [
      "The job S3_segGB_2_GB_P_44_d_0d82 was saved and received the ID: 3392\n"
     ]
    },
    {
     "name": "stderr",
     "output_type": "stream",
     "text": [
      "2023-09-18 00:51:21,944 - pyiron_log - WARNING - Job aborted\n",
      "2023-09-18 00:51:21,945 - pyiron_log - WARNING - LAMMPS (23 Jun 2022 - Update 1)\n",
      "Reading data file ...\n",
      "  orthogonal box = (0 0 0) to (4.0048391 6.9365848 44.334343)\n",
      "  1 by 1 by 1 MPI processor grid\n",
      "  reading atoms ...\n",
      "  84 atoms\n",
      "  read_data CPU = 0.001 seconds\n",
      "ERROR: KIM ModelCreate failed (src/KIM/pair_kim.cpp:843)\n",
      "Last command: pair_style kim EAM_Dynamo_AcklandMendelevSrolovitz_2004_FeP__MO_884343146310_005\n",
      "\n",
      "2023-09-18 00:51:21,962 - pyiron_log - WARNING - Job aborted - please remove it and run again! S3_segGB_2_GB_P_46_d_1d63\n"
     ]
    },
    {
     "name": "stdout",
     "output_type": "stream",
     "text": [
      "The job S3_segGB_2_GB_P_45_d_0d82 was saved and received the ID: 3393\n"
     ]
    },
    {
     "name": "stderr",
     "output_type": "stream",
     "text": [
      "2023-09-18 00:51:22,232 - pyiron_log - WARNING - Job aborted\n",
      "2023-09-18 00:51:22,233 - pyiron_log - WARNING - LAMMPS (23 Jun 2022 - Update 1)\n",
      "Reading data file ...\n",
      "  orthogonal box = (0 0 0) to (4.0048391 6.9365848 44.334343)\n",
      "  1 by 1 by 1 MPI processor grid\n",
      "  reading atoms ...\n",
      "  84 atoms\n",
      "  read_data CPU = 0.001 seconds\n",
      "ERROR: KIM ModelCreate failed (src/KIM/pair_kim.cpp:843)\n",
      "Last command: pair_style kim EAM_Dynamo_AcklandMendelevSrolovitz_2004_FeP__MO_884343146310_005\n",
      "\n",
      "2023-09-18 00:51:22,247 - pyiron_log - WARNING - Job aborted - please remove it and run again! S3_segGB_2_GB_P_47_d_1d64\n"
     ]
    },
    {
     "name": "stdout",
     "output_type": "stream",
     "text": [
      "The job S3_segGB_2_GB_P_46_d_1d63 was saved and received the ID: 3394\n"
     ]
    },
    {
     "name": "stderr",
     "output_type": "stream",
     "text": [
      "2023-09-18 00:51:22,490 - pyiron_log - WARNING - Job aborted\n",
      "2023-09-18 00:51:22,491 - pyiron_log - WARNING - LAMMPS (23 Jun 2022 - Update 1)\n",
      "Reading data file ...\n",
      "  orthogonal box = (0 0 0) to (4.0048391 6.9365848 44.334343)\n",
      "  1 by 1 by 1 MPI processor grid\n",
      "  reading atoms ...\n",
      "  84 atoms\n",
      "  read_data CPU = 0.005 seconds\n",
      "ERROR: KIM ModelCreate failed (src/KIM/pair_kim.cpp:843)\n",
      "Last command: pair_style kim EAM_Dynamo_AcklandMendelevSrolovitz_2004_FeP__MO_884343146310_005\n",
      "\n",
      "2023-09-18 00:51:22,507 - pyiron_log - WARNING - Job aborted - please remove it and run again! S3_segGB_2_GB_P_48_d_2d45\n"
     ]
    },
    {
     "name": "stdout",
     "output_type": "stream",
     "text": [
      "The job S3_segGB_2_GB_P_47_d_1d64 was saved and received the ID: 3395\n"
     ]
    },
    {
     "name": "stderr",
     "output_type": "stream",
     "text": [
      "2023-09-18 00:51:22,793 - pyiron_log - WARNING - Job aborted\n",
      "2023-09-18 00:51:22,794 - pyiron_log - WARNING - LAMMPS (23 Jun 2022 - Update 1)\n",
      "Reading data file ...\n",
      "  orthogonal box = (0 0 0) to (4.0048391 6.9365848 44.334343)\n",
      "  1 by 1 by 1 MPI processor grid\n",
      "  reading atoms ...\n",
      "  84 atoms\n",
      "  read_data CPU = 0.000 seconds\n",
      "ERROR: KIM ModelCreate failed (src/KIM/pair_kim.cpp:843)\n",
      "Last command: pair_style kim EAM_Dynamo_AcklandMendelevSrolovitz_2004_FeP__MO_884343146310_005\n",
      "\n",
      "2023-09-18 00:51:22,812 - pyiron_log - WARNING - Job aborted - please remove it and run again! S3_segGB_2_GB_P_49_d_2d45\n"
     ]
    },
    {
     "name": "stdout",
     "output_type": "stream",
     "text": [
      "The job S3_segGB_2_GB_P_48_d_2d45 was saved and received the ID: 3396\n"
     ]
    },
    {
     "name": "stderr",
     "output_type": "stream",
     "text": [
      "2023-09-18 00:51:23,114 - pyiron_log - WARNING - Job aborted\n",
      "2023-09-18 00:51:23,115 - pyiron_log - WARNING - LAMMPS (23 Jun 2022 - Update 1)\n",
      "Reading data file ...\n",
      "  orthogonal box = (0 0 0) to (4.0048391 6.9365848 44.334343)\n",
      "  1 by 1 by 1 MPI processor grid\n",
      "  reading atoms ...\n",
      "  84 atoms\n",
      "  read_data CPU = 0.000 seconds\n",
      "ERROR: KIM ModelCreate failed (src/KIM/pair_kim.cpp:843)\n",
      "Last command: pair_style kim EAM_Dynamo_AcklandMendelevSrolovitz_2004_FeP__MO_884343146310_005\n",
      "\n",
      "2023-09-18 00:51:23,134 - pyiron_log - WARNING - Job aborted - please remove it and run again! S3_segGB_2_GB_P_50_d_3d27\n"
     ]
    },
    {
     "name": "stdout",
     "output_type": "stream",
     "text": [
      "The job S3_segGB_2_GB_P_49_d_2d45 was saved and received the ID: 3397\n"
     ]
    },
    {
     "name": "stderr",
     "output_type": "stream",
     "text": [
      "2023-09-18 00:51:23,425 - pyiron_log - WARNING - Job aborted\n",
      "2023-09-18 00:51:23,427 - pyiron_log - WARNING - LAMMPS (23 Jun 2022 - Update 1)\n",
      "Reading data file ...\n",
      "  orthogonal box = (0 0 0) to (4.0048391 6.9365848 44.334343)\n",
      "  1 by 1 by 1 MPI processor grid\n",
      "  reading atoms ...\n",
      "  84 atoms\n",
      "  read_data CPU = 0.000 seconds\n",
      "ERROR: KIM ModelCreate failed (src/KIM/pair_kim.cpp:843)\n",
      "Last command: pair_style kim EAM_Dynamo_AcklandMendelevSrolovitz_2004_FeP__MO_884343146310_005\n",
      "\n",
      "2023-09-18 00:51:23,446 - pyiron_log - WARNING - Job aborted - please remove it and run again! S3_segGB_2_GB_P_51_d_3d27\n"
     ]
    },
    {
     "name": "stdout",
     "output_type": "stream",
     "text": [
      "The job S3_segGB_2_GB_P_50_d_3d27 was saved and received the ID: 3398\n"
     ]
    },
    {
     "name": "stderr",
     "output_type": "stream",
     "text": [
      "2023-09-18 00:51:23,749 - pyiron_log - WARNING - Job aborted\n",
      "2023-09-18 00:51:23,751 - pyiron_log - WARNING - LAMMPS (23 Jun 2022 - Update 1)\n",
      "Reading data file ...\n",
      "  orthogonal box = (0 0 0) to (4.0048391 6.9365848 44.334343)\n",
      "  1 by 1 by 1 MPI processor grid\n",
      "  reading atoms ...\n",
      "  84 atoms\n",
      "  read_data CPU = 0.000 seconds\n",
      "ERROR: KIM ModelCreate failed (src/KIM/pair_kim.cpp:843)\n",
      "Last command: pair_style kim EAM_Dynamo_AcklandMendelevSrolovitz_2004_FeP__MO_884343146310_005\n",
      "\n",
      "2023-09-18 00:51:23,771 - pyiron_log - WARNING - Job aborted - please remove it and run again! S3_segGB_2_GB_P_52_d_4d09\n"
     ]
    },
    {
     "name": "stdout",
     "output_type": "stream",
     "text": [
      "The job S3_segGB_2_GB_P_51_d_3d27 was saved and received the ID: 3399\n"
     ]
    },
    {
     "name": "stderr",
     "output_type": "stream",
     "text": [
      "2023-09-18 00:51:24,080 - pyiron_log - WARNING - Job aborted\n",
      "2023-09-18 00:51:24,081 - pyiron_log - WARNING - LAMMPS (23 Jun 2022 - Update 1)\n",
      "Reading data file ...\n",
      "  orthogonal box = (0 0 0) to (4.0048391 6.9365848 44.334343)\n",
      "  1 by 1 by 1 MPI processor grid\n",
      "  reading atoms ...\n",
      "  84 atoms\n",
      "  read_data CPU = 0.001 seconds\n",
      "ERROR: KIM ModelCreate failed (src/KIM/pair_kim.cpp:843)\n",
      "Last command: pair_style kim EAM_Dynamo_AcklandMendelevSrolovitz_2004_FeP__MO_884343146310_005\n",
      "\n",
      "2023-09-18 00:51:24,101 - pyiron_log - WARNING - Job aborted - please remove it and run again! S3_segGB_2_GB_P_53_d_4d09\n"
     ]
    },
    {
     "name": "stdout",
     "output_type": "stream",
     "text": [
      "The job S3_segGB_2_GB_P_52_d_4d09 was saved and received the ID: 3400\n"
     ]
    },
    {
     "name": "stderr",
     "output_type": "stream",
     "text": [
      "2023-09-18 00:51:24,407 - pyiron_log - WARNING - Job aborted\n",
      "2023-09-18 00:51:24,408 - pyiron_log - WARNING - LAMMPS (23 Jun 2022 - Update 1)\n",
      "Reading data file ...\n",
      "  orthogonal box = (0 0 0) to (4.0048391 6.9365848 44.334343)\n",
      "  1 by 1 by 1 MPI processor grid\n",
      "  reading atoms ...\n",
      "  84 atoms\n",
      "  read_data CPU = 0.000 seconds\n",
      "ERROR: KIM ModelCreate failed (src/KIM/pair_kim.cpp:843)\n",
      "Last command: pair_style kim EAM_Dynamo_AcklandMendelevSrolovitz_2004_FeP__MO_884343146310_005\n",
      "\n",
      "2023-09-18 00:51:24,428 - pyiron_log - WARNING - Job aborted - please remove it and run again! S3_segGB_2_GB_P_54_d_4d91\n"
     ]
    },
    {
     "name": "stdout",
     "output_type": "stream",
     "text": [
      "The job S3_segGB_2_GB_P_53_d_4d09 was saved and received the ID: 3401\n"
     ]
    },
    {
     "name": "stderr",
     "output_type": "stream",
     "text": [
      "2023-09-18 00:51:24,736 - pyiron_log - WARNING - Job aborted\n",
      "2023-09-18 00:51:24,737 - pyiron_log - WARNING - LAMMPS (23 Jun 2022 - Update 1)\n",
      "Reading data file ...\n",
      "  orthogonal box = (0 0 0) to (4.0048391 6.9365848 44.334343)\n",
      "  1 by 1 by 1 MPI processor grid\n",
      "  reading atoms ...\n",
      "  84 atoms\n",
      "  read_data CPU = 0.000 seconds\n",
      "ERROR: KIM ModelCreate failed (src/KIM/pair_kim.cpp:843)\n",
      "Last command: pair_style kim EAM_Dynamo_AcklandMendelevSrolovitz_2004_FeP__MO_884343146310_005\n",
      "\n",
      "2023-09-18 00:51:24,756 - pyiron_log - WARNING - Job aborted - please remove it and run again! S3_segGB_2_GB_P_55_d_4d91\n"
     ]
    },
    {
     "name": "stdout",
     "output_type": "stream",
     "text": [
      "The job S3_segGB_2_GB_P_54_d_4d91 was saved and received the ID: 3402\n"
     ]
    },
    {
     "name": "stderr",
     "output_type": "stream",
     "text": [
      "2023-09-18 00:51:25,066 - pyiron_log - WARNING - Job aborted\n",
      "2023-09-18 00:51:25,068 - pyiron_log - WARNING - LAMMPS (23 Jun 2022 - Update 1)\n",
      "Reading data file ...\n",
      "  orthogonal box = (0 0 0) to (4.0048391 6.9365848 44.334343)\n",
      "  1 by 1 by 1 MPI processor grid\n",
      "  reading atoms ...\n",
      "  84 atoms\n",
      "  read_data CPU = 0.000 seconds\n",
      "ERROR: KIM ModelCreate failed (src/KIM/pair_kim.cpp:843)\n",
      "Last command: pair_style kim EAM_Dynamo_AcklandMendelevSrolovitz_2004_FeP__MO_884343146310_005\n",
      "\n",
      "2023-09-18 00:51:25,086 - pyiron_log - WARNING - Job aborted - please remove it and run again! S3_segGB_2_GB_P_56_d_5d72\n"
     ]
    },
    {
     "name": "stdout",
     "output_type": "stream",
     "text": [
      "The job S3_segGB_2_GB_P_55_d_4d91 was saved and received the ID: 3403\n"
     ]
    },
    {
     "name": "stderr",
     "output_type": "stream",
     "text": [
      "2023-09-18 00:51:25,417 - pyiron_log - WARNING - Job aborted\n",
      "2023-09-18 00:51:25,419 - pyiron_log - WARNING - LAMMPS (23 Jun 2022 - Update 1)\n",
      "Reading data file ...\n",
      "  orthogonal box = (0 0 0) to (4.0048391 6.9365848 44.334343)\n",
      "  1 by 1 by 1 MPI processor grid\n",
      "  reading atoms ...\n",
      "  84 atoms\n",
      "  read_data CPU = 0.000 seconds\n",
      "ERROR: KIM ModelCreate failed (src/KIM/pair_kim.cpp:843)\n",
      "Last command: pair_style kim EAM_Dynamo_AcklandMendelevSrolovitz_2004_FeP__MO_884343146310_005\n",
      "\n",
      "2023-09-18 00:51:25,439 - pyiron_log - WARNING - Job aborted - please remove it and run again! S3_segGB_2_GB_P_57_d_5d72\n"
     ]
    },
    {
     "name": "stdout",
     "output_type": "stream",
     "text": [
      "The job S3_segGB_2_GB_P_56_d_5d72 was saved and received the ID: 3404\n"
     ]
    },
    {
     "name": "stderr",
     "output_type": "stream",
     "text": [
      "2023-09-18 00:51:25,752 - pyiron_log - WARNING - Job aborted\n",
      "2023-09-18 00:51:25,753 - pyiron_log - WARNING - LAMMPS (23 Jun 2022 - Update 1)\n",
      "Reading data file ...\n",
      "  orthogonal box = (0 0 0) to (4.0048391 6.9365848 44.334343)\n",
      "  1 by 1 by 1 MPI processor grid\n",
      "  reading atoms ...\n",
      "  84 atoms\n",
      "  read_data CPU = 0.000 seconds\n",
      "ERROR: KIM ModelCreate failed (src/KIM/pair_kim.cpp:843)\n",
      "Last command: pair_style kim EAM_Dynamo_AcklandMendelevSrolovitz_2004_FeP__MO_884343146310_005\n",
      "\n",
      "2023-09-18 00:51:25,772 - pyiron_log - WARNING - Job aborted - please remove it and run again! S3_PureGB_3\n"
     ]
    },
    {
     "name": "stdout",
     "output_type": "stream",
     "text": [
      "The job S3_segGB_2_GB_P_57_d_5d72 was saved and received the ID: 3405\n"
     ]
    },
    {
     "name": "stderr",
     "output_type": "stream",
     "text": [
      "2023-09-18 00:51:26,077 - pyiron_log - WARNING - Job aborted\n",
      "2023-09-18 00:51:26,078 - pyiron_log - WARNING - LAMMPS (23 Jun 2022 - Update 1)\n",
      "Reading data file ...\n",
      "  orthogonal box = (0 0 0) to (4.0048391 6.9365848 44.334343)\n",
      "  1 by 1 by 1 MPI processor grid\n",
      "  reading atoms ...\n",
      "  84 atoms\n",
      "  read_data CPU = 0.001 seconds\n",
      "ERROR: KIM ModelCreate failed (src/KIM/pair_kim.cpp:843)\n",
      "Last command: pair_style kim MEAM_LAMMPS_KoJimLee_2012_FeP__MO_179420363944_000\n",
      "\n",
      "2023-09-18 00:51:26,098 - pyiron_log - WARNING - Job aborted - please remove it and run again! S3_segGB_3_GB_P_29_d_5d72\n"
     ]
    },
    {
     "name": "stdout",
     "output_type": "stream",
     "text": [
      "The job S3_PureGB_3 was saved and received the ID: 3406\n"
     ]
    },
    {
     "name": "stderr",
     "output_type": "stream",
     "text": [
      "2023-09-18 00:51:26,400 - pyiron_log - WARNING - Job aborted\n",
      "2023-09-18 00:51:26,401 - pyiron_log - WARNING - LAMMPS (23 Jun 2022 - Update 1)\n",
      "Reading data file ...\n",
      "  orthogonal box = (0 0 0) to (4.0048391 6.9365848 44.334343)\n",
      "  1 by 1 by 1 MPI processor grid\n",
      "  reading atoms ...\n",
      "  84 atoms\n",
      "  read_data CPU = 0.000 seconds\n",
      "ERROR: KIM ModelCreate failed (src/KIM/pair_kim.cpp:843)\n",
      "Last command: pair_style kim MEAM_LAMMPS_KoJimLee_2012_FeP__MO_179420363944_000\n",
      "\n",
      "2023-09-18 00:51:26,421 - pyiron_log - WARNING - Job aborted - please remove it and run again! S3_segGB_3_GB_P_30_d_4d91\n"
     ]
    },
    {
     "name": "stdout",
     "output_type": "stream",
     "text": [
      "The job S3_segGB_3_GB_P_29_d_5d72 was saved and received the ID: 3407\n"
     ]
    },
    {
     "name": "stderr",
     "output_type": "stream",
     "text": [
      "2023-09-18 00:51:26,753 - pyiron_log - WARNING - Job aborted\n",
      "2023-09-18 00:51:26,754 - pyiron_log - WARNING - LAMMPS (23 Jun 2022 - Update 1)\n",
      "Reading data file ...\n",
      "  orthogonal box = (0 0 0) to (4.0048391 6.9365848 44.334343)\n",
      "  1 by 1 by 1 MPI processor grid\n",
      "  reading atoms ...\n",
      "  84 atoms\n",
      "  read_data CPU = 0.000 seconds\n",
      "ERROR: KIM ModelCreate failed (src/KIM/pair_kim.cpp:843)\n",
      "Last command: pair_style kim MEAM_LAMMPS_KoJimLee_2012_FeP__MO_179420363944_000\n",
      "\n",
      "2023-09-18 00:51:26,773 - pyiron_log - WARNING - Job aborted - please remove it and run again! S3_segGB_3_GB_P_31_d_4d91\n"
     ]
    },
    {
     "name": "stdout",
     "output_type": "stream",
     "text": [
      "The job S3_segGB_3_GB_P_30_d_4d91 was saved and received the ID: 3408\n"
     ]
    },
    {
     "name": "stderr",
     "output_type": "stream",
     "text": [
      "2023-09-18 00:51:27,087 - pyiron_log - WARNING - Job aborted\n",
      "2023-09-18 00:51:27,088 - pyiron_log - WARNING - LAMMPS (23 Jun 2022 - Update 1)\n",
      "Reading data file ...\n",
      "  orthogonal box = (0 0 0) to (4.0048391 6.9365848 44.334343)\n",
      "  1 by 1 by 1 MPI processor grid\n",
      "  reading atoms ...\n",
      "  84 atoms\n",
      "  read_data CPU = 0.000 seconds\n",
      "ERROR: KIM ModelCreate failed (src/KIM/pair_kim.cpp:843)\n",
      "Last command: pair_style kim MEAM_LAMMPS_KoJimLee_2012_FeP__MO_179420363944_000\n",
      "\n",
      "2023-09-18 00:51:27,105 - pyiron_log - WARNING - Job aborted - please remove it and run again! S3_segGB_3_GB_P_32_d_4d09\n"
     ]
    },
    {
     "name": "stdout",
     "output_type": "stream",
     "text": [
      "The job S3_segGB_3_GB_P_31_d_4d91 was saved and received the ID: 3409\n"
     ]
    },
    {
     "name": "stderr",
     "output_type": "stream",
     "text": [
      "2023-09-18 00:51:27,409 - pyiron_log - WARNING - Job aborted\n",
      "2023-09-18 00:51:27,410 - pyiron_log - WARNING - LAMMPS (23 Jun 2022 - Update 1)\n",
      "Reading data file ...\n",
      "  orthogonal box = (0 0 0) to (4.0048391 6.9365848 44.334343)\n",
      "  1 by 1 by 1 MPI processor grid\n",
      "  reading atoms ...\n",
      "  84 atoms\n",
      "  read_data CPU = 0.000 seconds\n",
      "ERROR: KIM ModelCreate failed (src/KIM/pair_kim.cpp:843)\n",
      "Last command: pair_style kim MEAM_LAMMPS_KoJimLee_2012_FeP__MO_179420363944_000\n",
      "\n",
      "2023-09-18 00:51:27,426 - pyiron_log - WARNING - Job aborted - please remove it and run again! S3_segGB_3_GB_P_33_d_4d09\n"
     ]
    },
    {
     "name": "stdout",
     "output_type": "stream",
     "text": [
      "The job S3_segGB_3_GB_P_32_d_4d09 was saved and received the ID: 3410\n"
     ]
    },
    {
     "name": "stderr",
     "output_type": "stream",
     "text": [
      "2023-09-18 00:51:27,715 - pyiron_log - WARNING - Job aborted\n",
      "2023-09-18 00:51:27,716 - pyiron_log - WARNING - LAMMPS (23 Jun 2022 - Update 1)\n",
      "Reading data file ...\n",
      "  orthogonal box = (0 0 0) to (4.0048391 6.9365848 44.334343)\n",
      "  1 by 1 by 1 MPI processor grid\n",
      "  reading atoms ...\n",
      "  84 atoms\n",
      "  read_data CPU = 0.000 seconds\n",
      "ERROR: KIM ModelCreate failed (src/KIM/pair_kim.cpp:843)\n",
      "Last command: pair_style kim MEAM_LAMMPS_KoJimLee_2012_FeP__MO_179420363944_000\n",
      "\n",
      "2023-09-18 00:51:27,732 - pyiron_log - WARNING - Job aborted - please remove it and run again! S3_segGB_3_GB_P_34_d_3d27\n"
     ]
    },
    {
     "name": "stdout",
     "output_type": "stream",
     "text": [
      "The job S3_segGB_3_GB_P_33_d_4d09 was saved and received the ID: 3411\n"
     ]
    },
    {
     "name": "stderr",
     "output_type": "stream",
     "text": [
      "2023-09-18 00:51:27,987 - pyiron_log - WARNING - Job aborted\n",
      "2023-09-18 00:51:27,988 - pyiron_log - WARNING - LAMMPS (23 Jun 2022 - Update 1)\n",
      "Reading data file ...\n",
      "  orthogonal box = (0 0 0) to (4.0048391 6.9365848 44.334343)\n",
      "  1 by 1 by 1 MPI processor grid\n",
      "  reading atoms ...\n",
      "  84 atoms\n",
      "  read_data CPU = 0.001 seconds\n",
      "ERROR: KIM ModelCreate failed (src/KIM/pair_kim.cpp:843)\n",
      "Last command: pair_style kim MEAM_LAMMPS_KoJimLee_2012_FeP__MO_179420363944_000\n",
      "\n",
      "2023-09-18 00:51:28,005 - pyiron_log - WARNING - Job aborted - please remove it and run again! S3_segGB_3_GB_P_35_d_3d27\n"
     ]
    },
    {
     "name": "stdout",
     "output_type": "stream",
     "text": [
      "The job S3_segGB_3_GB_P_34_d_3d27 was saved and received the ID: 3412\n"
     ]
    },
    {
     "name": "stderr",
     "output_type": "stream",
     "text": [
      "2023-09-18 00:51:28,270 - pyiron_log - WARNING - Job aborted\n",
      "2023-09-18 00:51:28,271 - pyiron_log - WARNING - LAMMPS (23 Jun 2022 - Update 1)\n",
      "Reading data file ...\n",
      "  orthogonal box = (0 0 0) to (4.0048391 6.9365848 44.334343)\n",
      "  1 by 1 by 1 MPI processor grid\n",
      "  reading atoms ...\n",
      "  84 atoms\n",
      "  read_data CPU = 0.000 seconds\n",
      "ERROR: KIM ModelCreate failed (src/KIM/pair_kim.cpp:843)\n",
      "Last command: pair_style kim MEAM_LAMMPS_KoJimLee_2012_FeP__MO_179420363944_000\n",
      "\n",
      "2023-09-18 00:51:28,287 - pyiron_log - WARNING - Job aborted - please remove it and run again! S3_segGB_3_GB_P_36_d_2d45\n"
     ]
    },
    {
     "name": "stdout",
     "output_type": "stream",
     "text": [
      "The job S3_segGB_3_GB_P_35_d_3d27 was saved and received the ID: 3413\n"
     ]
    },
    {
     "name": "stderr",
     "output_type": "stream",
     "text": [
      "2023-09-18 00:51:28,543 - pyiron_log - WARNING - Job aborted\n",
      "2023-09-18 00:51:28,544 - pyiron_log - WARNING - LAMMPS (23 Jun 2022 - Update 1)\n",
      "Reading data file ...\n",
      "  orthogonal box = (0 0 0) to (4.0048391 6.9365848 44.334343)\n",
      "  1 by 1 by 1 MPI processor grid\n",
      "  reading atoms ...\n",
      "  84 atoms\n",
      "  read_data CPU = 0.000 seconds\n",
      "ERROR: KIM ModelCreate failed (src/KIM/pair_kim.cpp:843)\n",
      "Last command: pair_style kim MEAM_LAMMPS_KoJimLee_2012_FeP__MO_179420363944_000\n",
      "\n",
      "2023-09-18 00:51:28,560 - pyiron_log - WARNING - Job aborted - please remove it and run again! S3_segGB_3_GB_P_37_d_2d45\n"
     ]
    },
    {
     "name": "stdout",
     "output_type": "stream",
     "text": [
      "The job S3_segGB_3_GB_P_36_d_2d45 was saved and received the ID: 3414\n"
     ]
    },
    {
     "name": "stderr",
     "output_type": "stream",
     "text": [
      "2023-09-18 00:51:28,825 - pyiron_log - WARNING - Job aborted\n",
      "2023-09-18 00:51:28,826 - pyiron_log - WARNING - LAMMPS (23 Jun 2022 - Update 1)\n",
      "Reading data file ...\n",
      "  orthogonal box = (0 0 0) to (4.0048391 6.9365848 44.334343)\n",
      "  1 by 1 by 1 MPI processor grid\n",
      "  reading atoms ...\n",
      "  84 atoms\n",
      "  read_data CPU = 0.000 seconds\n",
      "ERROR: KIM ModelCreate failed (src/KIM/pair_kim.cpp:843)\n",
      "Last command: pair_style kim MEAM_LAMMPS_KoJimLee_2012_FeP__MO_179420363944_000\n",
      "\n",
      "2023-09-18 00:51:28,843 - pyiron_log - WARNING - Job aborted - please remove it and run again! S3_segGB_3_GB_P_38_d_1d63\n"
     ]
    },
    {
     "name": "stdout",
     "output_type": "stream",
     "text": [
      "The job S3_segGB_3_GB_P_37_d_2d45 was saved and received the ID: 3415\n"
     ]
    },
    {
     "name": "stderr",
     "output_type": "stream",
     "text": [
      "2023-09-18 00:51:29,116 - pyiron_log - WARNING - Job aborted\n",
      "2023-09-18 00:51:29,118 - pyiron_log - WARNING - LAMMPS (23 Jun 2022 - Update 1)\n",
      "Reading data file ...\n",
      "  orthogonal box = (0 0 0) to (4.0048391 6.9365848 44.334343)\n",
      "  1 by 1 by 1 MPI processor grid\n",
      "  reading atoms ...\n",
      "  84 atoms\n",
      "  read_data CPU = 0.000 seconds\n",
      "ERROR: KIM ModelCreate failed (src/KIM/pair_kim.cpp:843)\n",
      "Last command: pair_style kim MEAM_LAMMPS_KoJimLee_2012_FeP__MO_179420363944_000\n",
      "\n",
      "2023-09-18 00:51:29,133 - pyiron_log - WARNING - Job aborted - please remove it and run again! S3_segGB_3_GB_P_39_d_1d63\n"
     ]
    },
    {
     "name": "stdout",
     "output_type": "stream",
     "text": [
      "The job S3_segGB_3_GB_P_38_d_1d63 was saved and received the ID: 3416\n"
     ]
    },
    {
     "name": "stderr",
     "output_type": "stream",
     "text": [
      "2023-09-18 00:51:29,392 - pyiron_log - WARNING - Job aborted\n",
      "2023-09-18 00:51:29,393 - pyiron_log - WARNING - LAMMPS (23 Jun 2022 - Update 1)\n",
      "Reading data file ...\n",
      "  orthogonal box = (0 0 0) to (4.0048391 6.9365848 44.334343)\n",
      "  1 by 1 by 1 MPI processor grid\n",
      "  reading atoms ...\n",
      "  84 atoms\n",
      "  read_data CPU = 0.000 seconds\n",
      "ERROR: KIM ModelCreate failed (src/KIM/pair_kim.cpp:843)\n",
      "Last command: pair_style kim MEAM_LAMMPS_KoJimLee_2012_FeP__MO_179420363944_000\n",
      "\n",
      "2023-09-18 00:51:29,409 - pyiron_log - WARNING - Job aborted - please remove it and run again! S3_segGB_3_GB_P_40_d_0d82\n"
     ]
    },
    {
     "name": "stdout",
     "output_type": "stream",
     "text": [
      "The job S3_segGB_3_GB_P_39_d_1d63 was saved and received the ID: 3417\n"
     ]
    },
    {
     "name": "stderr",
     "output_type": "stream",
     "text": [
      "2023-09-18 00:51:29,683 - pyiron_log - WARNING - Job aborted\n",
      "2023-09-18 00:51:29,684 - pyiron_log - WARNING - LAMMPS (23 Jun 2022 - Update 1)\n",
      "Reading data file ...\n",
      "  orthogonal box = (0 0 0) to (4.0048391 6.9365848 44.334343)\n",
      "  1 by 1 by 1 MPI processor grid\n",
      "  reading atoms ...\n",
      "  84 atoms\n",
      "  read_data CPU = 0.000 seconds\n",
      "ERROR: KIM ModelCreate failed (src/KIM/pair_kim.cpp:843)\n",
      "Last command: pair_style kim MEAM_LAMMPS_KoJimLee_2012_FeP__MO_179420363944_000\n",
      "\n",
      "2023-09-18 00:51:29,700 - pyiron_log - WARNING - Job aborted - please remove it and run again! S3_segGB_3_GB_P_41_d_0d82\n"
     ]
    },
    {
     "name": "stdout",
     "output_type": "stream",
     "text": [
      "The job S3_segGB_3_GB_P_40_d_0d82 was saved and received the ID: 3418\n"
     ]
    },
    {
     "name": "stderr",
     "output_type": "stream",
     "text": [
      "2023-09-18 00:51:29,964 - pyiron_log - WARNING - Job aborted\n",
      "2023-09-18 00:51:29,965 - pyiron_log - WARNING - LAMMPS (23 Jun 2022 - Update 1)\n",
      "Reading data file ...\n",
      "  orthogonal box = (0 0 0) to (4.0048391 6.9365848 44.334343)\n",
      "  1 by 1 by 1 MPI processor grid\n",
      "  reading atoms ...\n",
      "  84 atoms\n",
      "  read_data CPU = 0.000 seconds\n",
      "ERROR: KIM ModelCreate failed (src/KIM/pair_kim.cpp:843)\n",
      "Last command: pair_style kim MEAM_LAMMPS_KoJimLee_2012_FeP__MO_179420363944_000\n",
      "\n",
      "2023-09-18 00:51:29,983 - pyiron_log - WARNING - Job aborted - please remove it and run again! S3_segGB_3_GB_P_42_d_0d00\n"
     ]
    },
    {
     "name": "stdout",
     "output_type": "stream",
     "text": [
      "The job S3_segGB_3_GB_P_41_d_0d82 was saved and received the ID: 3419\n"
     ]
    },
    {
     "name": "stderr",
     "output_type": "stream",
     "text": [
      "2023-09-18 00:51:30,244 - pyiron_log - WARNING - Job aborted\n",
      "2023-09-18 00:51:30,245 - pyiron_log - WARNING - LAMMPS (23 Jun 2022 - Update 1)\n",
      "Reading data file ...\n",
      "  orthogonal box = (0 0 0) to (4.0048391 6.9365848 44.334343)\n",
      "  1 by 1 by 1 MPI processor grid\n",
      "  reading atoms ...\n",
      "  84 atoms\n",
      "  read_data CPU = 0.000 seconds\n",
      "ERROR: KIM ModelCreate failed (src/KIM/pair_kim.cpp:843)\n",
      "Last command: pair_style kim MEAM_LAMMPS_KoJimLee_2012_FeP__MO_179420363944_000\n",
      "\n",
      "2023-09-18 00:51:30,262 - pyiron_log - WARNING - Job aborted - please remove it and run again! S3_segGB_3_GB_P_43_d_0d00\n"
     ]
    },
    {
     "name": "stdout",
     "output_type": "stream",
     "text": [
      "The job S3_segGB_3_GB_P_42_d_0d00 was saved and received the ID: 3420\n"
     ]
    },
    {
     "name": "stderr",
     "output_type": "stream",
     "text": [
      "2023-09-18 00:51:30,546 - pyiron_log - WARNING - Job aborted\n",
      "2023-09-18 00:51:30,547 - pyiron_log - WARNING - LAMMPS (23 Jun 2022 - Update 1)\n",
      "Reading data file ...\n",
      "  orthogonal box = (0 0 0) to (4.0048391 6.9365848 44.334343)\n",
      "  1 by 1 by 1 MPI processor grid\n",
      "  reading atoms ...\n",
      "  84 atoms\n",
      "  read_data CPU = 0.000 seconds\n",
      "ERROR: KIM ModelCreate failed (src/KIM/pair_kim.cpp:843)\n",
      "Last command: pair_style kim MEAM_LAMMPS_KoJimLee_2012_FeP__MO_179420363944_000\n",
      "\n",
      "2023-09-18 00:51:30,565 - pyiron_log - WARNING - Job aborted - please remove it and run again! S3_segGB_3_GB_P_44_d_0d82\n"
     ]
    },
    {
     "name": "stdout",
     "output_type": "stream",
     "text": [
      "The job S3_segGB_3_GB_P_43_d_0d00 was saved and received the ID: 3421\n"
     ]
    },
    {
     "name": "stderr",
     "output_type": "stream",
     "text": [
      "2023-09-18 00:51:30,802 - pyiron_log - WARNING - Job aborted\n",
      "2023-09-18 00:51:30,804 - pyiron_log - WARNING - LAMMPS (23 Jun 2022 - Update 1)\n",
      "Reading data file ...\n",
      "  orthogonal box = (0 0 0) to (4.0048391 6.9365848 44.334343)\n",
      "  1 by 1 by 1 MPI processor grid\n",
      "  reading atoms ...\n",
      "  84 atoms\n",
      "  read_data CPU = 0.000 seconds\n",
      "ERROR: KIM ModelCreate failed (src/KIM/pair_kim.cpp:843)\n",
      "Last command: pair_style kim MEAM_LAMMPS_KoJimLee_2012_FeP__MO_179420363944_000\n",
      "\n",
      "2023-09-18 00:51:30,820 - pyiron_log - WARNING - Job aborted - please remove it and run again! S3_segGB_3_GB_P_45_d_0d82\n"
     ]
    },
    {
     "name": "stdout",
     "output_type": "stream",
     "text": [
      "The job S3_segGB_3_GB_P_44_d_0d82 was saved and received the ID: 3422\n"
     ]
    },
    {
     "name": "stderr",
     "output_type": "stream",
     "text": [
      "2023-09-18 00:51:31,099 - pyiron_log - WARNING - Job aborted\n",
      "2023-09-18 00:51:31,099 - pyiron_log - WARNING - LAMMPS (23 Jun 2022 - Update 1)\n",
      "Reading data file ...\n",
      "  orthogonal box = (0 0 0) to (4.0048391 6.9365848 44.334343)\n",
      "  1 by 1 by 1 MPI processor grid\n",
      "  reading atoms ...\n",
      "  84 atoms\n",
      "  read_data CPU = 0.004 seconds\n",
      "ERROR: KIM ModelCreate failed (src/KIM/pair_kim.cpp:843)\n",
      "Last command: pair_style kim MEAM_LAMMPS_KoJimLee_2012_FeP__MO_179420363944_000\n",
      "\n",
      "2023-09-18 00:51:31,116 - pyiron_log - WARNING - Job aborted - please remove it and run again! S3_segGB_3_GB_P_46_d_1d63\n"
     ]
    },
    {
     "name": "stdout",
     "output_type": "stream",
     "text": [
      "The job S3_segGB_3_GB_P_45_d_0d82 was saved and received the ID: 3423\n"
     ]
    },
    {
     "name": "stderr",
     "output_type": "stream",
     "text": [
      "2023-09-18 00:51:31,369 - pyiron_log - WARNING - Job aborted\n",
      "2023-09-18 00:51:31,370 - pyiron_log - WARNING - LAMMPS (23 Jun 2022 - Update 1)\n",
      "Reading data file ...\n",
      "  orthogonal box = (0 0 0) to (4.0048391 6.9365848 44.334343)\n",
      "  1 by 1 by 1 MPI processor grid\n",
      "  reading atoms ...\n",
      "  84 atoms\n",
      "  read_data CPU = 0.000 seconds\n",
      "ERROR: KIM ModelCreate failed (src/KIM/pair_kim.cpp:843)\n",
      "Last command: pair_style kim MEAM_LAMMPS_KoJimLee_2012_FeP__MO_179420363944_000\n",
      "\n",
      "2023-09-18 00:51:31,384 - pyiron_log - WARNING - Job aborted - please remove it and run again! S3_segGB_3_GB_P_47_d_1d64\n"
     ]
    },
    {
     "name": "stdout",
     "output_type": "stream",
     "text": [
      "The job S3_segGB_3_GB_P_46_d_1d63 was saved and received the ID: 3424\n"
     ]
    },
    {
     "name": "stderr",
     "output_type": "stream",
     "text": [
      "2023-09-18 00:51:31,641 - pyiron_log - WARNING - Job aborted\n",
      "2023-09-18 00:51:31,642 - pyiron_log - WARNING - LAMMPS (23 Jun 2022 - Update 1)\n",
      "Reading data file ...\n",
      "  orthogonal box = (0 0 0) to (4.0048391 6.9365848 44.334343)\n",
      "  1 by 1 by 1 MPI processor grid\n",
      "  reading atoms ...\n",
      "  84 atoms\n",
      "  read_data CPU = 0.001 seconds\n",
      "ERROR: KIM ModelCreate failed (src/KIM/pair_kim.cpp:843)\n",
      "Last command: pair_style kim MEAM_LAMMPS_KoJimLee_2012_FeP__MO_179420363944_000\n",
      "\n",
      "2023-09-18 00:51:31,660 - pyiron_log - WARNING - Job aborted - please remove it and run again! S3_segGB_3_GB_P_48_d_2d45\n"
     ]
    },
    {
     "name": "stdout",
     "output_type": "stream",
     "text": [
      "The job S3_segGB_3_GB_P_47_d_1d64 was saved and received the ID: 3425\n"
     ]
    },
    {
     "name": "stderr",
     "output_type": "stream",
     "text": [
      "2023-09-18 00:51:31,913 - pyiron_log - WARNING - Job aborted\n",
      "2023-09-18 00:51:31,915 - pyiron_log - WARNING - LAMMPS (23 Jun 2022 - Update 1)\n",
      "Reading data file ...\n",
      "  orthogonal box = (0 0 0) to (4.0048391 6.9365848 44.334343)\n",
      "  1 by 1 by 1 MPI processor grid\n",
      "  reading atoms ...\n",
      "  84 atoms\n",
      "  read_data CPU = 0.000 seconds\n",
      "ERROR: KIM ModelCreate failed (src/KIM/pair_kim.cpp:843)\n",
      "Last command: pair_style kim MEAM_LAMMPS_KoJimLee_2012_FeP__MO_179420363944_000\n",
      "\n",
      "2023-09-18 00:51:31,930 - pyiron_log - WARNING - Job aborted - please remove it and run again! S3_segGB_3_GB_P_49_d_2d45\n"
     ]
    },
    {
     "name": "stdout",
     "output_type": "stream",
     "text": [
      "The job S3_segGB_3_GB_P_48_d_2d45 was saved and received the ID: 3426\n"
     ]
    },
    {
     "name": "stderr",
     "output_type": "stream",
     "text": [
      "2023-09-18 00:51:32,180 - pyiron_log - WARNING - Job aborted\n",
      "2023-09-18 00:51:32,181 - pyiron_log - WARNING - LAMMPS (23 Jun 2022 - Update 1)\n",
      "Reading data file ...\n",
      "  orthogonal box = (0 0 0) to (4.0048391 6.9365848 44.334343)\n",
      "  1 by 1 by 1 MPI processor grid\n",
      "  reading atoms ...\n",
      "  84 atoms\n",
      "  read_data CPU = 0.000 seconds\n",
      "ERROR: KIM ModelCreate failed (src/KIM/pair_kim.cpp:843)\n",
      "Last command: pair_style kim MEAM_LAMMPS_KoJimLee_2012_FeP__MO_179420363944_000\n",
      "\n",
      "2023-09-18 00:51:32,196 - pyiron_log - WARNING - Job aborted - please remove it and run again! S3_segGB_3_GB_P_50_d_3d27\n"
     ]
    },
    {
     "name": "stdout",
     "output_type": "stream",
     "text": [
      "The job S3_segGB_3_GB_P_49_d_2d45 was saved and received the ID: 3427\n"
     ]
    },
    {
     "name": "stderr",
     "output_type": "stream",
     "text": [
      "2023-09-18 00:51:32,458 - pyiron_log - WARNING - Job aborted\n",
      "2023-09-18 00:51:32,459 - pyiron_log - WARNING - LAMMPS (23 Jun 2022 - Update 1)\n",
      "Reading data file ...\n",
      "  orthogonal box = (0 0 0) to (4.0048391 6.9365848 44.334343)\n",
      "  1 by 1 by 1 MPI processor grid\n",
      "  reading atoms ...\n",
      "  84 atoms\n",
      "  read_data CPU = 0.000 seconds\n",
      "ERROR: KIM ModelCreate failed (src/KIM/pair_kim.cpp:843)\n",
      "Last command: pair_style kim MEAM_LAMMPS_KoJimLee_2012_FeP__MO_179420363944_000\n",
      "\n",
      "2023-09-18 00:51:32,475 - pyiron_log - WARNING - Job aborted - please remove it and run again! S3_segGB_3_GB_P_51_d_3d27\n"
     ]
    },
    {
     "name": "stdout",
     "output_type": "stream",
     "text": [
      "The job S3_segGB_3_GB_P_50_d_3d27 was saved and received the ID: 3428\n"
     ]
    },
    {
     "name": "stderr",
     "output_type": "stream",
     "text": [
      "2023-09-18 00:51:32,733 - pyiron_log - WARNING - Job aborted\n",
      "2023-09-18 00:51:32,734 - pyiron_log - WARNING - LAMMPS (23 Jun 2022 - Update 1)\n",
      "Reading data file ...\n",
      "  orthogonal box = (0 0 0) to (4.0048391 6.9365848 44.334343)\n",
      "  1 by 1 by 1 MPI processor grid\n",
      "  reading atoms ...\n",
      "  84 atoms\n",
      "  read_data CPU = 0.000 seconds\n",
      "ERROR: KIM ModelCreate failed (src/KIM/pair_kim.cpp:843)\n",
      "Last command: pair_style kim MEAM_LAMMPS_KoJimLee_2012_FeP__MO_179420363944_000\n",
      "\n",
      "2023-09-18 00:51:32,749 - pyiron_log - WARNING - Job aborted - please remove it and run again! S3_segGB_3_GB_P_52_d_4d09\n"
     ]
    },
    {
     "name": "stdout",
     "output_type": "stream",
     "text": [
      "The job S3_segGB_3_GB_P_51_d_3d27 was saved and received the ID: 3429\n"
     ]
    },
    {
     "name": "stderr",
     "output_type": "stream",
     "text": [
      "2023-09-18 00:51:33,012 - pyiron_log - WARNING - Job aborted\n",
      "2023-09-18 00:51:33,013 - pyiron_log - WARNING - LAMMPS (23 Jun 2022 - Update 1)\n",
      "Reading data file ...\n",
      "  orthogonal box = (0 0 0) to (4.0048391 6.9365848 44.334343)\n",
      "  1 by 1 by 1 MPI processor grid\n",
      "  reading atoms ...\n",
      "  84 atoms\n",
      "  read_data CPU = 0.000 seconds\n",
      "ERROR: KIM ModelCreate failed (src/KIM/pair_kim.cpp:843)\n",
      "Last command: pair_style kim MEAM_LAMMPS_KoJimLee_2012_FeP__MO_179420363944_000\n",
      "\n",
      "2023-09-18 00:51:33,029 - pyiron_log - WARNING - Job aborted - please remove it and run again! S3_segGB_3_GB_P_53_d_4d09\n"
     ]
    },
    {
     "name": "stdout",
     "output_type": "stream",
     "text": [
      "The job S3_segGB_3_GB_P_52_d_4d09 was saved and received the ID: 3430\n"
     ]
    },
    {
     "name": "stderr",
     "output_type": "stream",
     "text": [
      "2023-09-18 00:51:33,317 - pyiron_log - WARNING - Job aborted\n",
      "2023-09-18 00:51:33,319 - pyiron_log - WARNING - LAMMPS (23 Jun 2022 - Update 1)\n",
      "Reading data file ...\n",
      "  orthogonal box = (0 0 0) to (4.0048391 6.9365848 44.334343)\n",
      "  1 by 1 by 1 MPI processor grid\n",
      "  reading atoms ...\n",
      "  84 atoms\n",
      "  read_data CPU = 0.000 seconds\n",
      "ERROR: KIM ModelCreate failed (src/KIM/pair_kim.cpp:843)\n",
      "Last command: pair_style kim MEAM_LAMMPS_KoJimLee_2012_FeP__MO_179420363944_000\n",
      "\n",
      "2023-09-18 00:51:33,335 - pyiron_log - WARNING - Job aborted - please remove it and run again! S3_segGB_3_GB_P_54_d_4d91\n"
     ]
    },
    {
     "name": "stdout",
     "output_type": "stream",
     "text": [
      "The job S3_segGB_3_GB_P_53_d_4d09 was saved and received the ID: 3431\n"
     ]
    },
    {
     "name": "stderr",
     "output_type": "stream",
     "text": [
      "2023-09-18 00:51:33,597 - pyiron_log - WARNING - Job aborted\n",
      "2023-09-18 00:51:33,598 - pyiron_log - WARNING - LAMMPS (23 Jun 2022 - Update 1)\n",
      "Reading data file ...\n",
      "  orthogonal box = (0 0 0) to (4.0048391 6.9365848 44.334343)\n",
      "  1 by 1 by 1 MPI processor grid\n",
      "  reading atoms ...\n",
      "  84 atoms\n",
      "  read_data CPU = 0.000 seconds\n",
      "ERROR: KIM ModelCreate failed (src/KIM/pair_kim.cpp:843)\n",
      "Last command: pair_style kim MEAM_LAMMPS_KoJimLee_2012_FeP__MO_179420363944_000\n",
      "\n",
      "2023-09-18 00:51:33,613 - pyiron_log - WARNING - Job aborted - please remove it and run again! S3_segGB_3_GB_P_55_d_4d91\n"
     ]
    },
    {
     "name": "stdout",
     "output_type": "stream",
     "text": [
      "The job S3_segGB_3_GB_P_54_d_4d91 was saved and received the ID: 3432\n"
     ]
    },
    {
     "name": "stderr",
     "output_type": "stream",
     "text": [
      "2023-09-18 00:51:33,861 - pyiron_log - WARNING - Job aborted\n",
      "2023-09-18 00:51:33,863 - pyiron_log - WARNING - LAMMPS (23 Jun 2022 - Update 1)\n",
      "Reading data file ...\n",
      "  orthogonal box = (0 0 0) to (4.0048391 6.9365848 44.334343)\n",
      "  1 by 1 by 1 MPI processor grid\n",
      "  reading atoms ...\n",
      "  84 atoms\n",
      "  read_data CPU = 0.000 seconds\n",
      "ERROR: KIM ModelCreate failed (src/KIM/pair_kim.cpp:843)\n",
      "Last command: pair_style kim MEAM_LAMMPS_KoJimLee_2012_FeP__MO_179420363944_000\n",
      "\n",
      "2023-09-18 00:51:33,878 - pyiron_log - WARNING - Job aborted - please remove it and run again! S3_segGB_3_GB_P_56_d_5d72\n"
     ]
    },
    {
     "name": "stdout",
     "output_type": "stream",
     "text": [
      "The job S3_segGB_3_GB_P_55_d_4d91 was saved and received the ID: 3433\n"
     ]
    },
    {
     "name": "stderr",
     "output_type": "stream",
     "text": [
      "2023-09-18 00:51:34,144 - pyiron_log - WARNING - Job aborted\n",
      "2023-09-18 00:51:34,146 - pyiron_log - WARNING - LAMMPS (23 Jun 2022 - Update 1)\n",
      "Reading data file ...\n",
      "  orthogonal box = (0 0 0) to (4.0048391 6.9365848 44.334343)\n",
      "  1 by 1 by 1 MPI processor grid\n",
      "  reading atoms ...\n",
      "  84 atoms\n",
      "  read_data CPU = 0.000 seconds\n",
      "ERROR: KIM ModelCreate failed (src/KIM/pair_kim.cpp:843)\n",
      "Last command: pair_style kim MEAM_LAMMPS_KoJimLee_2012_FeP__MO_179420363944_000\n",
      "\n",
      "2023-09-18 00:51:34,161 - pyiron_log - WARNING - Job aborted - please remove it and run again! S3_segGB_3_GB_P_57_d_5d72\n"
     ]
    },
    {
     "name": "stdout",
     "output_type": "stream",
     "text": [
      "The job S3_segGB_3_GB_P_56_d_5d72 was saved and received the ID: 3434\n"
     ]
    },
    {
     "name": "stderr",
     "output_type": "stream",
     "text": [
      "2023-09-18 00:51:34,424 - pyiron_log - WARNING - Job aborted\n",
      "2023-09-18 00:51:34,425 - pyiron_log - WARNING - LAMMPS (23 Jun 2022 - Update 1)\n",
      "Reading data file ...\n",
      "  orthogonal box = (0 0 0) to (4.0048391 6.9365848 44.334343)\n",
      "  1 by 1 by 1 MPI processor grid\n",
      "  reading atoms ...\n",
      "  84 atoms\n",
      "  read_data CPU = 0.000 seconds\n",
      "ERROR: KIM ModelCreate failed (src/KIM/pair_kim.cpp:843)\n",
      "Last command: pair_style kim MEAM_LAMMPS_KoJimLee_2012_FeP__MO_179420363944_000\n",
      "\n"
     ]
    },
    {
     "name": "stdout",
     "output_type": "stream",
     "text": [
      "The job S3_segGB_3_GB_P_57_d_5d72 was saved and received the ID: 3435\n"
     ]
    }
   ],
   "source": [
    "potentials_tested = job.list_potentials()\n",
    "E_seg_list = []\n",
    "for j, potential in enumerate(potentials_tested):\n",
    "    E_seg_list_potential = []\n",
    "    for i, struct in enumerate(structure_list):\n",
    "        try:\n",
    "            if i == 0:\n",
    "                E_pure_GB = run_lammps_calc(pymatgen_to_pyiron(gb_pmg), f\"S3_PureGB_{j}\", potential)\n",
    "                E_pure_SLAB = run_lammps_calc(pymatgen_to_pyiron(slab_pmg), f\"S3_PureSLAB_{j}\", potential)\n",
    "                E_SLAB_P = run_lammps_calc(pymatgen_to_pyiron(slab_pmg_P), f\"S3_segSLAB_{j}\", potential)\n",
    "            E_GB_P = run_lammps_calc(pymatgen_to_pyiron(struct), f\"S3_segGB_{j}_{structure_name_list[i]}\", potential)\n",
    "            # Formula for segregation energy is E_seg = E_seg_GB - E_pure_GB - (E_sol_SLAB - E_pure_SLAB)\n",
    "            E_seg = E_GB_P - E_pure_GB - (E_SLAB_P - E_pure_SLAB)\n",
    "            E_seg_list_potential.append(E_seg)\n",
    "        except:\n",
    "            E_seg_list_potential.append(np.nan)\n",
    "    E_seg_list.append(E_seg_list_potential)"
   ]
  },
  {
   "cell_type": "code",
   "execution_count": 12,
   "metadata": {},
   "outputs": [
    {
     "data": {
      "text/html": [
       "<div>\n",
       "<style scoped>\n",
       "    .dataframe tbody tr th:only-of-type {\n",
       "        vertical-align: middle;\n",
       "    }\n",
       "\n",
       "    .dataframe tbody tr th {\n",
       "        vertical-align: top;\n",
       "    }\n",
       "\n",
       "    .dataframe thead th {\n",
       "        text-align: right;\n",
       "    }\n",
       "</style>\n",
       "<table border=\"1\" class=\"dataframe\">\n",
       "  <thead>\n",
       "    <tr style=\"text-align: right;\">\n",
       "      <th></th>\n",
       "      <th>2004--Ackland-G-J--Fe-P--LAMMPS--ipr1</th>\n",
       "      <th>2012--Ko-W-S--Fe-P--LAMMPS--ipr1</th>\n",
       "    </tr>\n",
       "  </thead>\n",
       "  <tbody>\n",
       "    <tr>\n",
       "      <th>GB_P_28_d_5.72</th>\n",
       "      <td>0.003667</td>\n",
       "      <td>-1.107854</td>\n",
       "    </tr>\n",
       "    <tr>\n",
       "      <th>GB_P_29_d_5.72</th>\n",
       "      <td>0.003667</td>\n",
       "      <td>-1.107854</td>\n",
       "    </tr>\n",
       "    <tr>\n",
       "      <th>GB_P_30_d_4.91</th>\n",
       "      <td>0.009409</td>\n",
       "      <td>0.046456</td>\n",
       "    </tr>\n",
       "    <tr>\n",
       "      <th>GB_P_31_d_4.91</th>\n",
       "      <td>0.009409</td>\n",
       "      <td>0.046456</td>\n",
       "    </tr>\n",
       "    <tr>\n",
       "      <th>GB_P_32_d_4.09</th>\n",
       "      <td>0.032903</td>\n",
       "      <td>-0.007275</td>\n",
       "    </tr>\n",
       "    <tr>\n",
       "      <th>GB_P_33_d_4.09</th>\n",
       "      <td>0.032903</td>\n",
       "      <td>-0.007275</td>\n",
       "    </tr>\n",
       "    <tr>\n",
       "      <th>GB_P_34_d_3.27</th>\n",
       "      <td>-1.144830</td>\n",
       "      <td>-1.105626</td>\n",
       "    </tr>\n",
       "    <tr>\n",
       "      <th>GB_P_35_d_3.27</th>\n",
       "      <td>-1.144830</td>\n",
       "      <td>-1.105626</td>\n",
       "    </tr>\n",
       "    <tr>\n",
       "      <th>GB_P_36_d_2.45</th>\n",
       "      <td>0.180020</td>\n",
       "      <td>0.113790</td>\n",
       "    </tr>\n",
       "    <tr>\n",
       "      <th>GB_P_37_d_2.45</th>\n",
       "      <td>0.180020</td>\n",
       "      <td>0.113790</td>\n",
       "    </tr>\n",
       "    <tr>\n",
       "      <th>GB_P_38_d_1.63</th>\n",
       "      <td>-0.378476</td>\n",
       "      <td>-0.189858</td>\n",
       "    </tr>\n",
       "    <tr>\n",
       "      <th>GB_P_39_d_1.63</th>\n",
       "      <td>-0.378476</td>\n",
       "      <td>-0.189858</td>\n",
       "    </tr>\n",
       "    <tr>\n",
       "      <th>GB_P_40_d_0.82</th>\n",
       "      <td>-1.152108</td>\n",
       "      <td>-1.104952</td>\n",
       "    </tr>\n",
       "    <tr>\n",
       "      <th>GB_P_41_d_0.82</th>\n",
       "      <td>-1.152108</td>\n",
       "      <td>-1.104952</td>\n",
       "    </tr>\n",
       "    <tr>\n",
       "      <th>GB_P_42_d_0.00</th>\n",
       "      <td>0.165460</td>\n",
       "      <td>0.077128</td>\n",
       "    </tr>\n",
       "    <tr>\n",
       "      <th>GB_P_43_d_0.00</th>\n",
       "      <td>0.165460</td>\n",
       "      <td>0.077128</td>\n",
       "    </tr>\n",
       "    <tr>\n",
       "      <th>GB_P_44_d_0.82</th>\n",
       "      <td>-1.152077</td>\n",
       "      <td>-1.104842</td>\n",
       "    </tr>\n",
       "    <tr>\n",
       "      <th>GB_P_45_d_0.82</th>\n",
       "      <td>-1.152078</td>\n",
       "      <td>-1.104842</td>\n",
       "    </tr>\n",
       "    <tr>\n",
       "      <th>GB_P_46_d_1.63</th>\n",
       "      <td>-0.378394</td>\n",
       "      <td>-0.189240</td>\n",
       "    </tr>\n",
       "    <tr>\n",
       "      <th>GB_P_47_d_1.64</th>\n",
       "      <td>-0.378394</td>\n",
       "      <td>-0.189240</td>\n",
       "    </tr>\n",
       "    <tr>\n",
       "      <th>GB_P_48_d_2.45</th>\n",
       "      <td>0.179999</td>\n",
       "      <td>0.113546</td>\n",
       "    </tr>\n",
       "    <tr>\n",
       "      <th>GB_P_49_d_2.45</th>\n",
       "      <td>0.179999</td>\n",
       "      <td>0.113546</td>\n",
       "    </tr>\n",
       "    <tr>\n",
       "      <th>GB_P_50_d_3.27</th>\n",
       "      <td>-1.144728</td>\n",
       "      <td>-1.103879</td>\n",
       "    </tr>\n",
       "    <tr>\n",
       "      <th>GB_P_51_d_3.27</th>\n",
       "      <td>-1.144728</td>\n",
       "      <td>-1.103879</td>\n",
       "    </tr>\n",
       "    <tr>\n",
       "      <th>GB_P_52_d_4.09</th>\n",
       "      <td>0.032953</td>\n",
       "      <td>-0.006490</td>\n",
       "    </tr>\n",
       "    <tr>\n",
       "      <th>GB_P_53_d_4.09</th>\n",
       "      <td>0.032953</td>\n",
       "      <td>-0.006490</td>\n",
       "    </tr>\n",
       "    <tr>\n",
       "      <th>GB_P_54_d_4.91</th>\n",
       "      <td>0.009393</td>\n",
       "      <td>0.046186</td>\n",
       "    </tr>\n",
       "    <tr>\n",
       "      <th>GB_P_55_d_4.91</th>\n",
       "      <td>0.009393</td>\n",
       "      <td>0.046186</td>\n",
       "    </tr>\n",
       "    <tr>\n",
       "      <th>GB_P_56_d_5.72</th>\n",
       "      <td>0.003740</td>\n",
       "      <td>-1.100800</td>\n",
       "    </tr>\n",
       "    <tr>\n",
       "      <th>GB_P_57_d_5.72</th>\n",
       "      <td>0.003740</td>\n",
       "      <td>-1.100800</td>\n",
       "    </tr>\n",
       "  </tbody>\n",
       "</table>\n",
       "</div>"
      ],
      "text/plain": [
       "                2004--Ackland-G-J--Fe-P--LAMMPS--ipr1   \n",
       "GB_P_28_d_5.72                               0.003667  \\\n",
       "GB_P_29_d_5.72                               0.003667   \n",
       "GB_P_30_d_4.91                               0.009409   \n",
       "GB_P_31_d_4.91                               0.009409   \n",
       "GB_P_32_d_4.09                               0.032903   \n",
       "GB_P_33_d_4.09                               0.032903   \n",
       "GB_P_34_d_3.27                              -1.144830   \n",
       "GB_P_35_d_3.27                              -1.144830   \n",
       "GB_P_36_d_2.45                               0.180020   \n",
       "GB_P_37_d_2.45                               0.180020   \n",
       "GB_P_38_d_1.63                              -0.378476   \n",
       "GB_P_39_d_1.63                              -0.378476   \n",
       "GB_P_40_d_0.82                              -1.152108   \n",
       "GB_P_41_d_0.82                              -1.152108   \n",
       "GB_P_42_d_0.00                               0.165460   \n",
       "GB_P_43_d_0.00                               0.165460   \n",
       "GB_P_44_d_0.82                              -1.152077   \n",
       "GB_P_45_d_0.82                              -1.152078   \n",
       "GB_P_46_d_1.63                              -0.378394   \n",
       "GB_P_47_d_1.64                              -0.378394   \n",
       "GB_P_48_d_2.45                               0.179999   \n",
       "GB_P_49_d_2.45                               0.179999   \n",
       "GB_P_50_d_3.27                              -1.144728   \n",
       "GB_P_51_d_3.27                              -1.144728   \n",
       "GB_P_52_d_4.09                               0.032953   \n",
       "GB_P_53_d_4.09                               0.032953   \n",
       "GB_P_54_d_4.91                               0.009393   \n",
       "GB_P_55_d_4.91                               0.009393   \n",
       "GB_P_56_d_5.72                               0.003740   \n",
       "GB_P_57_d_5.72                               0.003740   \n",
       "\n",
       "                2012--Ko-W-S--Fe-P--LAMMPS--ipr1  \n",
       "GB_P_28_d_5.72                         -1.107854  \n",
       "GB_P_29_d_5.72                         -1.107854  \n",
       "GB_P_30_d_4.91                          0.046456  \n",
       "GB_P_31_d_4.91                          0.046456  \n",
       "GB_P_32_d_4.09                         -0.007275  \n",
       "GB_P_33_d_4.09                         -0.007275  \n",
       "GB_P_34_d_3.27                         -1.105626  \n",
       "GB_P_35_d_3.27                         -1.105626  \n",
       "GB_P_36_d_2.45                          0.113790  \n",
       "GB_P_37_d_2.45                          0.113790  \n",
       "GB_P_38_d_1.63                         -0.189858  \n",
       "GB_P_39_d_1.63                         -0.189858  \n",
       "GB_P_40_d_0.82                         -1.104952  \n",
       "GB_P_41_d_0.82                         -1.104952  \n",
       "GB_P_42_d_0.00                          0.077128  \n",
       "GB_P_43_d_0.00                          0.077128  \n",
       "GB_P_44_d_0.82                         -1.104842  \n",
       "GB_P_45_d_0.82                         -1.104842  \n",
       "GB_P_46_d_1.63                         -0.189240  \n",
       "GB_P_47_d_1.64                         -0.189240  \n",
       "GB_P_48_d_2.45                          0.113546  \n",
       "GB_P_49_d_2.45                          0.113546  \n",
       "GB_P_50_d_3.27                         -1.103879  \n",
       "GB_P_51_d_3.27                         -1.103879  \n",
       "GB_P_52_d_4.09                         -0.006490  \n",
       "GB_P_53_d_4.09                         -0.006490  \n",
       "GB_P_54_d_4.91                          0.046186  \n",
       "GB_P_55_d_4.91                          0.046186  \n",
       "GB_P_56_d_5.72                         -1.100800  \n",
       "GB_P_57_d_5.72                         -1.100800  "
      ]
     },
     "execution_count": 12,
     "metadata": {},
     "output_type": "execute_result"
    }
   ],
   "source": [
    "df = pd.DataFrame(np.transpose(E_seg_list), columns=potentials_tested, index=structure_name_list)\n",
    "df.dropna(axis=1)"
   ]
  },
  {
   "cell_type": "markdown",
   "metadata": {},
   "source": [
    "Get the segregation energies from DFT from the literature for verification:\n",
    "\n",
    "[Mai, H.L., Cui, X.Y., Scheiber, D., Romaner, L. and Ringer, S.P., 2023. Phosphorus and transition metal co-segregation in ferritic iron grain boundaries and its effects on cohesion. Acta Materialia, 250, p.118850.](https://www.sciencedirect.com/science/article/pii/S1359645423001817)\n"
   ]
  },
  {
   "cell_type": "code",
   "execution_count": 13,
   "metadata": {},
   "outputs": [],
   "source": [
    "df[\"DFT\"] = [-0.04,\n",
    "             -0.04,\n",
    "             0.04,\n",
    "             0.04,\n",
    "             -0.02,\n",
    "             -0.02,\n",
    "             -0.10,\n",
    "             -0.10,\n",
    "             0.10,\n",
    "             0.10,\n",
    "             -0.33,\n",
    "             -0.33,\n",
    "             -1.15,\n",
    "             -1.15,\n",
    "             -0.05,\n",
    "             -0.05,\n",
    "             -1.15,\n",
    "             -1.15,\n",
    "             -0.33,\n",
    "             -0.33,\n",
    "             0.10,\n",
    "             0.10,\n",
    "             -0.10,\n",
    "             -0.10,\n",
    "             -0.02,\n",
    "             -0.02,\n",
    "             0.04,\n",
    "             0.04,\n",
    "             -0.04,\n",
    "             -0.04]"
   ]
  },
  {
   "cell_type": "markdown",
   "metadata": {},
   "source": [
    "### Plot their segregation profiles wrt. DFT for visualisation and comparison\n",
    "\n",
    "### Generally the segregation energies at/near the GB are well replicated.\n",
    "\n",
    "### Notice the large errors are generated by the the potentials further away from the GB - it thinks that there are relaxations where there are none! \n",
    "\n",
    "### The sites at the GB are replicated accurately, but the sites further away seem to possess the same energy. This is because of relaxations into the same structure - but DFT does not replicate this phenomena! \n",
    "\n",
    "### So there is some kind of fundamental error in the potential's relaxation process."
   ]
  },
  {
   "cell_type": "code",
   "execution_count": 14,
   "metadata": {},
   "outputs": [
    {
     "data": {
      "image/png": "[encoded data removed]",
      "text/plain": [
       "<Figure size 1000x600 with 1 Axes>"
      ]
     },
     "metadata": {},
     "output_type": "display_data"
    }
   ],
   "source": [
    "# Extract the data for the first two potentials\n",
    "potential_1 = df[potentials_tested[0]]\n",
    "potential_2 = df[potentials_tested[1]]\n",
    "dft = df[\"DFT\"]\n",
    "# Plotting\n",
    "plt.figure(figsize=(10, 6))\n",
    "plt.plot(potential_1, \"-.\", label=str(potentials_tested[0]))\n",
    "plt.plot(potential_2, \"-.\", label=str(potentials_tested[1]))\n",
    "plt.plot(dft, \"-.\", label=\"DFT\")\n",
    "\n",
    "plt.axhline(y=0, color='black', linestyle='--', label='E_seg = 0')  # Horizontal reference line\n",
    "plt.xlabel(\"Structure Names\")\n",
    "plt.ylabel(\"Segregation Energy\")\n",
    "plt.title(\"Segregation Energies for First Two Potentials\")\n",
    "plt.xticks(rotation=90)\n",
    "plt.legend()\n",
    "plt.grid(True)  # Adding grid lines\n",
    "plt.tight_layout()\n",
    "plt.show()\n"
   ]
  },
  {
   "cell_type": "code",
   "execution_count": 16,
   "metadata": {},
   "outputs": [],
   "source": [
    "# Optional: Cleanup the dir so we don't have useless huge files\n",
    "shutil.rmtree(\"GB_calcs\")"
   ]
  }
 ],
 "metadata": {
  "kernelspec": {
   "display_name": "Python 3",
   "language": "python",
   "name": "python3"
  },
  "language_info": {
   "codemirror_mode": {
    "name": "ipython",
    "version": 3
   },
   "file_extension": ".py",
   "mimetype": "text/x-python",
   "name": "python",
   "nbconvert_exporter": "python",
   "pygments_lexer": "ipython3",
   "version": "3.10.10"
  },
  "orig_nbformat": 4
 },
 "nbformat": 4,
 "nbformat_minor": 2
}
